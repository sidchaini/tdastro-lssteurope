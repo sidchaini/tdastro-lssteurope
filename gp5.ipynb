{
 "cells": [
  {
   "cell_type": "code",
   "execution_count": 1,
   "id": "5bb2b052-55c0-4ca2-88b8-ad1a3785eb60",
   "metadata": {
    "execution": {
     "iopub.execute_input": "2025-09-09T03:10:48.772950Z",
     "iopub.status.busy": "2025-09-09T03:10:48.771866Z",
     "iopub.status.idle": "2025-09-09T03:10:50.397195Z",
     "shell.execute_reply": "2025-09-09T03:10:50.396889Z",
     "shell.execute_reply.started": "2025-09-09T03:10:48.772883Z"
    }
   },
   "outputs": [],
   "source": [
    "import os\n",
    "import numpy as np\n",
    "import sncosmo\n",
    "from astropy.table import Table"
   ]
  },
  {
   "cell_type": "code",
   "execution_count": 3,
   "id": "4dda2b79-937e-4f64-8de4-b34d196d165b",
   "metadata": {
    "execution": {
     "iopub.execute_input": "2025-09-09T03:11:12.547362Z",
     "iopub.status.busy": "2025-09-09T03:11:12.546575Z",
     "iopub.status.idle": "2025-09-09T03:11:12.558670Z",
     "shell.execute_reply": "2025-09-09T03:11:12.556978Z",
     "shell.execute_reply.started": "2025-09-09T03:11:12.547328Z"
    }
   },
   "outputs": [],
   "source": [
    "# -----------------------\n",
    "# 1) Model registry (sncosmo)\n",
    "# -----------------------\n",
    "# Built-in sources that work out-of-the-box.\n",
    "# You can extend this dict by registering more templates later (e.g., SNANA files, MOSFiT, Villar KN, etc.).\n",
    "CLASS_TO_SOURCE = {\n",
    "    \"SNIa\": \"salt2\",          # SALT2\n",
    "    \"91bg\": \"nugent-sn91bg\",  # 91bg-like\n",
    "    \"SNIbc\": \"nugent-sn1bc\",  # stripped-envelope\n",
    "    \"II\": \"nugent-sn2p\",      # Type II-P\n",
    "    # Placeholders below — add templates later with sncosmo.register(). For now we map to something reasonable:\n",
    "    # \"Iax\": \"nugent-sn91bg\",   # placeholder\n",
    "    # \"KN\": \"nugent-sn1bc\",     # placeholder\n",
    "    # \"SLSN\": \"nugent-sn1bc\",   # placeholder\n",
    "    # \"ILOT\": \"nugent-sn2p\",    # placeholder\n",
    "    # \"CART\": \"nugent-sn1bc\",   # placeholder\n",
    "    # \"PISN\": \"nugent-sn2p\",    # placeholder\n",
    "}\n",
    "\n",
    "LSST_BANDS = [\"lsstu\", \"lsstg\", \"lsstr\", \"lssti\", \"lsstz\", \"lssty\"]\n"
   ]
  },
  {
   "cell_type": "code",
   "execution_count": 4,
   "id": "3746e662-13d4-4879-9f79-582e82830f3d",
   "metadata": {
    "execution": {
     "iopub.execute_input": "2025-09-09T03:11:26.224708Z",
     "iopub.status.busy": "2025-09-09T03:11:26.223521Z",
     "iopub.status.idle": "2025-09-09T03:11:26.262819Z",
     "shell.execute_reply": "2025-09-09T03:11:26.262118Z",
     "shell.execute_reply.started": "2025-09-09T03:11:26.224654Z"
    }
   },
   "outputs": [],
   "source": [
    "# -----------------------\n",
    "# 2) Helpers: parameter sampling and flux generation\n",
    "# -----------------------\n",
    "rng = np.random.default_rng(42)\n",
    "\n",
    "def sample_params(class_name):\n",
    "    \"\"\"Return (model, param_dict). Sets z, t0, and amplitude/shape parameters.\"\"\"\n",
    "    src = CLASS_TO_SOURCE[class_name]\n",
    "    model = sncosmo.Model(source=src)\n",
    "\n",
    "    # Redshift/time of max\n",
    "    z = rng.uniform(0.03, 0.15)          # narrow for speed/stability\n",
    "    t0 = 0.0\n",
    "\n",
    "    params = {\"z\": z, \"t0\": t0}\n",
    "\n",
    "    if src == \"salt2\":\n",
    "        # SALT2: x1 and c shape parameters, x0 scales amplitude\n",
    "        params[\"x1\"] = rng.normal(0.0, 1.0)\n",
    "        params[\"c\"]  = rng.normal(0.0, 0.1)\n",
    "        # Choose target peak mag in lsstg, then set x0 accordingly\n",
    "        target_peak_mag = rng.uniform(20.0, 22.5)\n",
    "        x0 = sncosmo.models.SALT2Source()._fluxscale_for_peakmag(band=\"lsstg\", mag=target_peak_mag, zpsys=\"ab\")\n",
    "        params[\"x0\"] = x0\n",
    "    else:\n",
    "        # Nugent style models use overall amplitude\n",
    "        target_peak_mag = rng.uniform(20.0, 22.5)\n",
    "        # Convert desired peak magnitude in lsstg into amplitude.\n",
    "        # We search amplitude to match peak mag.\n",
    "        # Simple 1D search (few steps) is fine for a quick solution.\n",
    "        amp = 1.0\n",
    "        best_amp = amp\n",
    "        best_err = 1e9\n",
    "        for a in np.logspace(-6, 2, 30):\n",
    "            model.set(z=z, t0=t0, amplitude=a)\n",
    "            try:\n",
    "                m = model.bandmag(\"lsstg\", \"ab\", t0)  # near peak\n",
    "                err = abs(m - target_peak_mag)\n",
    "                if err < best_err:\n",
    "                    best_err = err\n",
    "                    best_amp = a\n",
    "            except Exception:\n",
    "                pass\n",
    "        params[\"amplitude\"] = best_amp\n",
    "\n",
    "    model.set(**params)\n",
    "    return model, params\n",
    "\n",
    "def flux_grid(model, times, bands, zp=27.5, zpsys=\"ab\", add_noise=None):\n",
    "    \"\"\"Return array shape (len(times), len(bands)) of fluxes at times for each band.\n",
    "       add_noise: if float in mag, adds Gaussian noise per point in mag space.\"\"\"\n",
    "    n_t = len(times)\n",
    "    n_b = len(bands)\n",
    "    out = np.zeros((n_t, n_b), dtype=np.float32)\n",
    "    for j, b in enumerate(bands):\n",
    "        mag = model.bandmag(b, zpsys, times)   # length n_t\n",
    "        if add_noise is not None:\n",
    "            mag = mag + rng.normal(0.0, add_noise, size=mag.shape)\n",
    "        # convert mag->flux at zp\n",
    "        # flux = 10^(-0.4*(mag - zp))\n",
    "        flux = 10.0 ** (-0.4 * (mag - zp))\n",
    "        out[:, j] = flux.astype(np.float32)\n",
    "    return out\n"
   ]
  },
  {
   "cell_type": "code",
   "execution_count": 5,
   "id": "aa32e0fd-5a1b-484c-bb95-10a881a23290",
   "metadata": {
    "execution": {
     "iopub.execute_input": "2025-09-09T03:11:32.440275Z",
     "iopub.status.busy": "2025-09-09T03:11:32.439081Z",
     "iopub.status.idle": "2025-09-09T03:11:32.455768Z",
     "shell.execute_reply": "2025-09-09T03:11:32.455096Z",
     "shell.execute_reply.started": "2025-09-09T03:11:32.440217Z"
    }
   },
   "outputs": [],
   "source": [
    "# -----------------------\n",
    "# 3) Dataset synthesis\n",
    "# -----------------------\n",
    "def simulate_pair(class_name, TDENSE=400, TVIS=60, tmin=-20.0, tmax=80.0,\n",
    "                  visible_mag_noise=0.05):\n",
    "    \"\"\"\n",
    "    Returns:\n",
    "      dense_x:  (TDENSE, 1)\n",
    "      dense_y:  (TDENSE, NBANDS)\n",
    "      vis_x:    (TVIS, 1)\n",
    "      vis_y:    (TVIS, NBANDS)\n",
    "    \"\"\"\n",
    "    model, _ = sample_params(class_name)\n",
    "\n",
    "    dense_times = np.linspace(tmin, tmax, TDENSE).astype(np.float32)\n",
    "    vis_times   = np.linspace(tmin, tmax, TVIS).astype(np.float32)\n",
    "    # You can randomize vis_times for variety, but keep TVIS fixed for array shapes.\n",
    "    # vis_times += rng.normal(0.0, 0.5, size=vis_times.shape)\n",
    "\n",
    "    dense_y = flux_grid(model, dense_times, LSST_BANDS, add_noise=None)           # hidden\n",
    "    vis_y   = flux_grid(model, vis_times,   LSST_BANDS, add_noise=visible_mag_noise)  # visible noisy\n",
    "\n",
    "    dense_x = dense_times.reshape(-1, 1)\n",
    "    vis_x   = vis_times.reshape(-1, 1)\n",
    "\n",
    "    return dense_x, dense_y, vis_x, vis_y\n"
   ]
  },
  {
   "cell_type": "code",
   "execution_count": 6,
   "id": "f5ccb1ea-f03c-46d4-8bbb-cc70ccb3672d",
   "metadata": {
    "execution": {
     "iopub.execute_input": "2025-09-09T03:11:50.369378Z",
     "iopub.status.busy": "2025-09-09T03:11:50.368756Z",
     "iopub.status.idle": "2025-09-09T03:11:50.380700Z",
     "shell.execute_reply": "2025-09-09T03:11:50.379583Z",
     "shell.execute_reply.started": "2025-09-09T03:11:50.369343Z"
    }
   },
   "outputs": [],
   "source": [
    "def build_dataset(classes, n_per_class=100, TDENSE=400, TVIS=60,\n",
    "                  tmin=-20.0, tmax=80.0, visible_mag_noise=0.05):\n",
    "    samples = []\n",
    "    for cname in classes:\n",
    "        for _ in range(n_per_class):\n",
    "            dx, dy, vx, vy = simulate_pair(cname, TDENSE, TVIS, tmin, tmax, visible_mag_noise)\n",
    "            samples.append((dx, dy, vx, vy))\n",
    "    # Stack into arrays with shapes:\n",
    "    # context_x: (N, TDENSE, 1)\n",
    "    # context_y: (N, TDENSE, 6)\n",
    "    # target_x:  (N, TVIS, 1)\n",
    "    # target_y:  (N, TVIS, 6)\n",
    "    context_x = np.stack([s[0] for s in samples], axis=0).astype(np.float32)\n",
    "    context_y = np.stack([s[1] for s in samples], axis=0).astype(np.float32)\n",
    "    target_x  = np.stack([s[2] for s in samples], axis=0).astype(np.float32)\n",
    "    target_y  = np.stack([s[3] for s in samples], axis=0).astype(np.float32)\n",
    "    return context_x, context_y, target_x, target_y"
   ]
  },
  {
   "cell_type": "code",
   "execution_count": 8,
   "id": "7f11a59d-81bb-46ac-8b29-62338fbdfc42",
   "metadata": {
    "execution": {
     "iopub.execute_input": "2025-09-09T03:13:29.375516Z",
     "iopub.status.busy": "2025-09-09T03:13:29.374378Z",
     "iopub.status.idle": "2025-09-09T03:13:29.804498Z",
     "shell.execute_reply": "2025-09-09T03:13:29.803892Z",
     "shell.execute_reply.started": "2025-09-09T03:13:29.375469Z"
    }
   },
   "outputs": [
    {
     "ename": "FileNotFoundError",
     "evalue": "[Errno 2] No such file or directory: 'salt2_template_0.dat'",
     "output_type": "error",
     "traceback": [
      "\u001b[31m---------------------------------------------------------------------------\u001b[39m",
      "\u001b[31mFileNotFoundError\u001b[39m                         Traceback (most recent call last)",
      "\u001b[36mCell\u001b[39m\u001b[36m \u001b[39m\u001b[32mIn[8]\u001b[39m\u001b[32m, line 1\u001b[39m\n\u001b[32m----> \u001b[39m\u001b[32m1\u001b[39m context_x, context_y, target_x, target_y = \u001b[43mbuild_dataset\u001b[49m\u001b[43m(\u001b[49m\n\u001b[32m      2\u001b[39m \u001b[43m        \u001b[49m\u001b[43m[\u001b[49m\u001b[33;43m\"\u001b[39;49m\u001b[33;43mSNIa\u001b[39;49m\u001b[33;43m\"\u001b[39;49m\u001b[43m,\u001b[49m\u001b[43m \u001b[49m\u001b[33;43m\"\u001b[39;49m\u001b[33;43m91bg\u001b[39;49m\u001b[33;43m\"\u001b[39;49m\u001b[43m,\u001b[49m\u001b[43m \u001b[49m\u001b[33;43m\"\u001b[39;49m\u001b[33;43mSNIbc\u001b[39;49m\u001b[33;43m\"\u001b[39;49m\u001b[43m,\u001b[49m\u001b[43m \u001b[49m\u001b[33;43m\"\u001b[39;49m\u001b[33;43mII\u001b[39;49m\u001b[33;43m\"\u001b[39;49m\u001b[43m]\u001b[49m\u001b[43m,\u001b[49m\u001b[43m \u001b[49m\u001b[43mn_per_class\u001b[49m\u001b[43m=\u001b[49m\u001b[32;43m100\u001b[39;49m\u001b[43m,\u001b[49m\u001b[43m \u001b[49m\u001b[43mTDENSE\u001b[49m\u001b[43m=\u001b[49m\u001b[32;43m400\u001b[39;49m\u001b[43m,\u001b[49m\u001b[43m \u001b[49m\u001b[43mTVIS\u001b[49m\u001b[43m=\u001b[49m\u001b[32;43m60\u001b[39;49m\n\u001b[32m      3\u001b[39m \u001b[43m    \u001b[49m\u001b[43m)\u001b[49m\n",
      "\u001b[36mCell\u001b[39m\u001b[36m \u001b[39m\u001b[32mIn[6]\u001b[39m\u001b[32m, line 6\u001b[39m, in \u001b[36mbuild_dataset\u001b[39m\u001b[34m(classes, n_per_class, TDENSE, TVIS, tmin, tmax, visible_mag_noise)\u001b[39m\n\u001b[32m      4\u001b[39m \u001b[38;5;28;01mfor\u001b[39;00m cname \u001b[38;5;129;01min\u001b[39;00m classes:\n\u001b[32m      5\u001b[39m     \u001b[38;5;28;01mfor\u001b[39;00m _ \u001b[38;5;129;01min\u001b[39;00m \u001b[38;5;28mrange\u001b[39m(n_per_class):\n\u001b[32m----> \u001b[39m\u001b[32m6\u001b[39m         dx, dy, vx, vy = \u001b[43msimulate_pair\u001b[49m\u001b[43m(\u001b[49m\u001b[43mcname\u001b[49m\u001b[43m,\u001b[49m\u001b[43m \u001b[49m\u001b[43mTDENSE\u001b[49m\u001b[43m,\u001b[49m\u001b[43m \u001b[49m\u001b[43mTVIS\u001b[49m\u001b[43m,\u001b[49m\u001b[43m \u001b[49m\u001b[43mtmin\u001b[49m\u001b[43m,\u001b[49m\u001b[43m \u001b[49m\u001b[43mtmax\u001b[49m\u001b[43m,\u001b[49m\u001b[43m \u001b[49m\u001b[43mvisible_mag_noise\u001b[49m\u001b[43m)\u001b[49m\n\u001b[32m      7\u001b[39m         samples.append((dx, dy, vx, vy))\n\u001b[32m      8\u001b[39m \u001b[38;5;66;03m# Stack into arrays with shapes:\u001b[39;00m\n\u001b[32m      9\u001b[39m \u001b[38;5;66;03m# context_x: (N, TDENSE, 1)\u001b[39;00m\n\u001b[32m     10\u001b[39m \u001b[38;5;66;03m# context_y: (N, TDENSE, 6)\u001b[39;00m\n\u001b[32m     11\u001b[39m \u001b[38;5;66;03m# target_x:  (N, TVIS, 1)\u001b[39;00m\n\u001b[32m     12\u001b[39m \u001b[38;5;66;03m# target_y:  (N, TVIS, 6)\u001b[39;00m\n",
      "\u001b[36mCell\u001b[39m\u001b[36m \u001b[39m\u001b[32mIn[5]\u001b[39m\u001b[32m, line 13\u001b[39m, in \u001b[36msimulate_pair\u001b[39m\u001b[34m(class_name, TDENSE, TVIS, tmin, tmax, visible_mag_noise)\u001b[39m\n\u001b[32m      4\u001b[39m \u001b[38;5;28;01mdef\u001b[39;00m\u001b[38;5;250m \u001b[39m\u001b[34msimulate_pair\u001b[39m(class_name, TDENSE=\u001b[32m400\u001b[39m, TVIS=\u001b[32m60\u001b[39m, tmin=-\u001b[32m20.0\u001b[39m, tmax=\u001b[32m80.0\u001b[39m,\n\u001b[32m      5\u001b[39m                   visible_mag_noise=\u001b[32m0.05\u001b[39m):\n\u001b[32m      6\u001b[39m \u001b[38;5;250m    \u001b[39m\u001b[33;03m\"\"\"\u001b[39;00m\n\u001b[32m      7\u001b[39m \u001b[33;03m    Returns:\u001b[39;00m\n\u001b[32m      8\u001b[39m \u001b[33;03m      dense_x:  (TDENSE, 1)\u001b[39;00m\n\u001b[32m   (...)\u001b[39m\u001b[32m     11\u001b[39m \u001b[33;03m      vis_y:    (TVIS, NBANDS)\u001b[39;00m\n\u001b[32m     12\u001b[39m \u001b[33;03m    \"\"\"\u001b[39;00m\n\u001b[32m---> \u001b[39m\u001b[32m13\u001b[39m     model, _ = \u001b[43msample_params\u001b[49m\u001b[43m(\u001b[49m\u001b[43mclass_name\u001b[49m\u001b[43m)\u001b[49m\n\u001b[32m     15\u001b[39m     dense_times = np.linspace(tmin, tmax, TDENSE).astype(np.float32)\n\u001b[32m     16\u001b[39m     vis_times   = np.linspace(tmin, tmax, TVIS).astype(np.float32)\n",
      "\u001b[36mCell\u001b[39m\u001b[36m \u001b[39m\u001b[32mIn[4]\u001b[39m\u001b[32m, line 23\u001b[39m, in \u001b[36msample_params\u001b[39m\u001b[34m(class_name)\u001b[39m\n\u001b[32m     21\u001b[39m     \u001b[38;5;66;03m# Choose target peak mag in lsstg, then set x0 accordingly\u001b[39;00m\n\u001b[32m     22\u001b[39m     target_peak_mag = rng.uniform(\u001b[32m20.0\u001b[39m, \u001b[32m22.5\u001b[39m)\n\u001b[32m---> \u001b[39m\u001b[32m23\u001b[39m     x0 = \u001b[43msncosmo\u001b[49m\u001b[43m.\u001b[49m\u001b[43mmodels\u001b[49m\u001b[43m.\u001b[49m\u001b[43mSALT2Source\u001b[49m\u001b[43m(\u001b[49m\u001b[43m)\u001b[49m._fluxscale_for_peakmag(band=\u001b[33m\"\u001b[39m\u001b[33mlsstg\u001b[39m\u001b[33m\"\u001b[39m, mag=target_peak_mag, zpsys=\u001b[33m\"\u001b[39m\u001b[33mab\u001b[39m\u001b[33m\"\u001b[39m)\n\u001b[32m     24\u001b[39m     params[\u001b[33m\"\u001b[39m\u001b[33mx0\u001b[39m\u001b[33m\"\u001b[39m] = x0\n\u001b[32m     25\u001b[39m \u001b[38;5;28;01melse\u001b[39;00m:\n\u001b[32m     26\u001b[39m     \u001b[38;5;66;03m# Nugent style models use overall amplitude\u001b[39;00m\n",
      "\u001b[36mFile \u001b[39m\u001b[32m~/miniconda3/envs/tdastro/lib/python3.12/site-packages/sncosmo/models.py:787\u001b[39m, in \u001b[36mSALT2Source.__init__\u001b[39m\u001b[34m(self, modeldir, m0file, m1file, clfile, cdfile, errscalefile, lcrv00file, lcrv11file, lcrv01file, name, version)\u001b[39m\n\u001b[32m    785\u001b[39m \u001b[38;5;66;03m# model components are interpolated to 2nd order\u001b[39;00m\n\u001b[32m    786\u001b[39m \u001b[38;5;28;01mfor\u001b[39;00m key \u001b[38;5;129;01min\u001b[39;00m [\u001b[33m'\u001b[39m\u001b[33mM0\u001b[39m\u001b[33m'\u001b[39m, \u001b[33m'\u001b[39m\u001b[33mM1\u001b[39m\u001b[33m'\u001b[39m]:\n\u001b[32m--> \u001b[39m\u001b[32m787\u001b[39m     phase, wave, values = \u001b[43mread_griddata_ascii\u001b[49m\u001b[43m(\u001b[49m\u001b[43mnames_or_objs\u001b[49m\u001b[43m[\u001b[49m\u001b[43mkey\u001b[49m\u001b[43m]\u001b[49m\u001b[43m)\u001b[49m\n\u001b[32m    788\u001b[39m     values *= \u001b[38;5;28mself\u001b[39m._SCALE_FACTOR\n\u001b[32m    789\u001b[39m     \u001b[38;5;28mself\u001b[39m._model[key] = BicubicInterpolator(phase, wave, values)\n",
      "\u001b[36mFile \u001b[39m\u001b[32m~/miniconda3/envs/tdastro/lib/python3.12/site-packages/sncosmo/io.py:63\u001b[39m, in \u001b[36mread_griddata_ascii\u001b[39m\u001b[34m(name_or_obj)\u001b[39m\n\u001b[32m     42\u001b[39m \u001b[38;5;250m\u001b[39m\u001b[33;03m\"\"\"Read 2-d grid data from a text file.\u001b[39;00m\n\u001b[32m     43\u001b[39m \n\u001b[32m     44\u001b[39m \u001b[33;03mEach line has values `x0 x1 y`. Space separated.\u001b[39;00m\n\u001b[32m   (...)\u001b[39m\u001b[32m     59\u001b[39m \u001b[33;03m    2-d array of shape (len(x0), len(x1)).\u001b[39;00m\n\u001b[32m     60\u001b[39m \u001b[33;03m\"\"\"\u001b[39;00m\n\u001b[32m     62\u001b[39m \u001b[38;5;28;01mif\u001b[39;00m \u001b[38;5;28misinstance\u001b[39m(name_or_obj, \u001b[38;5;28mstr\u001b[39m):\n\u001b[32m---> \u001b[39m\u001b[32m63\u001b[39m     f = \u001b[38;5;28;43mopen\u001b[39;49m\u001b[43m(\u001b[49m\u001b[43mname_or_obj\u001b[49m\u001b[43m,\u001b[49m\u001b[43m \u001b[49m\u001b[33;43m'\u001b[39;49m\u001b[33;43mr\u001b[39;49m\u001b[33;43m'\u001b[39;49m\u001b[43m)\u001b[49m\n\u001b[32m     64\u001b[39m \u001b[38;5;28;01melse\u001b[39;00m:\n\u001b[32m     65\u001b[39m     f = name_or_obj\n",
      "\u001b[31mFileNotFoundError\u001b[39m: [Errno 2] No such file or directory: 'salt2_template_0.dat'"
     ]
    }
   ],
   "source": [
    "context_x, context_y, target_x, target_y = build_dataset(\n",
    "        [\"SNIa\", \"91bg\", \"SNIbc\", \"II\"], n_per_class=100, TDENSE=400, TVIS=60\n",
    "    )"
   ]
  },
  {
   "cell_type": "code",
   "execution_count": null,
   "id": "60840093-a4ec-426b-a299-bbe67189b2ca",
   "metadata": {},
   "outputs": [],
   "source": []
  }
 ],
 "metadata": {
  "kernelspec": {
   "display_name": "Python 3 (ipykernel)",
   "language": "python",
   "name": "python3"
  },
  "language_info": {
   "codemirror_mode": {
    "name": "ipython",
    "version": 3
   },
   "file_extension": ".py",
   "mimetype": "text/x-python",
   "name": "python",
   "nbconvert_exporter": "python",
   "pygments_lexer": "ipython3",
   "version": "3.12.11"
  }
 },
 "nbformat": 4,
 "nbformat_minor": 5
}
