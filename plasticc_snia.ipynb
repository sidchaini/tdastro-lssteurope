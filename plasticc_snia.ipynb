{
 "cells": [
  {
   "cell_type": "markdown",
   "id": "27226089",
   "metadata": {},
   "source": [
    "# PLAsTiCC SNIa"
   ]
  },
  {
   "cell_type": "code",
   "execution_count": 1,
   "id": "26a180bb-de40-4353-a493-ff31964feaab",
   "metadata": {
    "execution": {
     "iopub.execute_input": "2025-09-09T21:29:17.502136Z",
     "iopub.status.busy": "2025-09-09T21:29:17.501558Z",
     "iopub.status.idle": "2025-09-09T21:29:20.526811Z",
     "shell.execute_reply": "2025-09-09T21:29:20.526495Z",
     "shell.execute_reply.started": "2025-09-09T21:29:17.502097Z"
    }
   },
   "outputs": [],
   "source": [
    "import numpy as np\n",
    "\n",
    "from tdastro import _TDASTRO_BASE_DATA_DIR\n",
    "from tdastro.astro_utils.passbands import PassbandGroup\n",
    "from tdastro.astro_utils.pzflow_node import PZFlowNode\n",
    "from tdastro.astro_utils.snia_utils import (\n",
    "    DistModFromRedshift,\n",
    "    HostmassX1Func,\n",
    "    X0FromDistMod,\n",
    ")\n",
    "from tdastro.math_nodes.np_random import NumpyRandomFunc\n",
    "from tdastro.obstable.opsim import OpSim\n",
    "from tdastro.simulate import simulate_lightcurves\n",
    "from tdastro.models.sncomso_models import SncosmoWrapperModel\n",
    "from tdastro.models.snia_host import SNIaHost\n",
    "from tdastro.utils.plotting import plot_lightcurves"
   ]
  },
  {
   "cell_type": "markdown",
   "id": "e0b1cad1",
   "metadata": {},
   "source": [
    "## Load Data Files\n",
    "\n",
    "We start by loading the files we will need for running the simulation: the OpSim database and the passband information. Both of these live in the `data/` directory in the root directory. Note that nothing in this directory is saved to github, so the files might have to be downloaded initially.\n",
    "\n",
    "For Rubin, a large number of OpSims can be found at [https://s3df.slac.stanford.edu/data/rubin/sim-data/](https://s3df.slac.stanford.edu/data/rubin/sim-data/). You can download an OpSim manually or using the `from_url()` helper function:\n",
    "\n",
    "> opsim_url = \"https://s3df.slac.stanford.edu/data/rubin/sim-data/sims_featureScheduler_runs3.4/baseline/baseline_v3.4_10yrs.db\"\n",
    "> opsim_data = OpSim.from_url(opsim_url)"
   ]
  },
  {
   "cell_type": "code",
   "execution_count": 2,
   "id": "ef20396a-0d06-4297-9b55-4063ad11a28a",
   "metadata": {
    "execution": {
     "iopub.execute_input": "2025-09-09T21:29:20.527698Z",
     "iopub.status.busy": "2025-09-09T21:29:20.527426Z",
     "iopub.status.idle": "2025-09-09T21:29:20.530754Z",
     "shell.execute_reply": "2025-09-09T21:29:20.529931Z",
     "shell.execute_reply.started": "2025-09-09T21:29:20.527681Z"
    }
   },
   "outputs": [],
   "source": [
    "OPSIM_DB_PATH = \"/Users/sidchaini/miniconda3/envs/tdastro/lib/python3.12/data/opsim/baseline_v5.0.0_10yrs.db\"  # Path to your downloaded OpSim database"
   ]
  },
  {
   "cell_type": "code",
   "execution_count": 3,
   "id": "da09419a-cf38-4d6f-b44c-e1110caaf541",
   "metadata": {
    "execution": {
     "iopub.execute_input": "2025-09-09T21:29:20.833540Z",
     "iopub.status.busy": "2025-09-09T21:29:20.832924Z",
     "iopub.status.idle": "2025-09-09T21:30:05.628693Z",
     "shell.execute_reply": "2025-09-09T21:30:05.628318Z",
     "shell.execute_reply.started": "2025-09-09T21:29:20.833503Z"
    }
   },
   "outputs": [
    {
     "name": "stderr",
     "output_type": "stream",
     "text": [
      "2025-09-09 17:30:05,580 - INFO - Loading passbands from preset LSST\n",
      "2025-09-09 17:30:05,590 - INFO - Data file /Users/sidchaini/miniconda3/envs/tdastro/lib/python3.12/data/passbands/LSST/u.dat already exists. Skipping download.\n",
      "2025-09-09 17:30:05,590 - INFO - Loading passband from file: /Users/sidchaini/miniconda3/envs/tdastro/lib/python3.12/data/passbands/LSST/u.dat\n",
      "2025-09-09 17:30:05,598 - INFO - Data file /Users/sidchaini/miniconda3/envs/tdastro/lib/python3.12/data/passbands/LSST/g.dat already exists. Skipping download.\n",
      "2025-09-09 17:30:05,599 - INFO - Loading passband from file: /Users/sidchaini/miniconda3/envs/tdastro/lib/python3.12/data/passbands/LSST/g.dat\n",
      "2025-09-09 17:30:05,605 - INFO - Data file /Users/sidchaini/miniconda3/envs/tdastro/lib/python3.12/data/passbands/LSST/r.dat already exists. Skipping download.\n",
      "2025-09-09 17:30:05,606 - INFO - Loading passband from file: /Users/sidchaini/miniconda3/envs/tdastro/lib/python3.12/data/passbands/LSST/r.dat\n",
      "2025-09-09 17:30:05,610 - INFO - Data file /Users/sidchaini/miniconda3/envs/tdastro/lib/python3.12/data/passbands/LSST/i.dat already exists. Skipping download.\n",
      "2025-09-09 17:30:05,611 - INFO - Loading passband from file: /Users/sidchaini/miniconda3/envs/tdastro/lib/python3.12/data/passbands/LSST/i.dat\n",
      "2025-09-09 17:30:05,615 - INFO - Data file /Users/sidchaini/miniconda3/envs/tdastro/lib/python3.12/data/passbands/LSST/z.dat already exists. Skipping download.\n",
      "2025-09-09 17:30:05,615 - INFO - Loading passband from file: /Users/sidchaini/miniconda3/envs/tdastro/lib/python3.12/data/passbands/LSST/z.dat\n",
      "2025-09-09 17:30:05,620 - INFO - Data file /Users/sidchaini/miniconda3/envs/tdastro/lib/python3.12/data/passbands/LSST/y.dat already exists. Skipping download.\n",
      "2025-09-09 17:30:05,621 - INFO - Loading passband from file: /Users/sidchaini/miniconda3/envs/tdastro/lib/python3.12/data/passbands/LSST/y.dat\n"
     ]
    },
    {
     "name": "stdout",
     "output_type": "stream",
     "text": [
      "Loaded OpSim with 2048612 rows and times [60980.00162606769, 64632.272916088485]\n",
      "Loaded Passbands: PassbandGroup containing 4 passbands: LSST_g, LSST_r, LSST_i, LSST_z\n"
     ]
    }
   ],
   "source": [
    "# Load the OpSim data.\n",
    "opsim_db = OpSim.from_db(OPSIM_DB_PATH)\n",
    "\n",
    "t_min, t_max = opsim_db.time_bounds()\n",
    "print(f\"Loaded OpSim with {len(opsim_db)} rows and times [{t_min}, {t_max}]\")\n",
    "\n",
    "# Load the passband data for the griz filters only.\n",
    "passband_group = PassbandGroup.from_preset(\n",
    "    preset=\"LSST\",\n",
    "    filters=[\"g\", \"r\", \"i\", \"z\"],\n",
    "    units=\"nm\",\n",
    "    trim_quantile=0.001,\n",
    "    delta_wave=1,\n",
    ")\n",
    "print(f\"Loaded Passbands: {passband_group}\")"
   ]
  },
  {
   "cell_type": "markdown",
   "id": "ab9d7cf5",
   "metadata": {},
   "source": [
    "We don't care about any of the observation in the OpSim that are not in one of the filters of interest. We can use a combination of `PassbandGroup`'s `mask_by_filter()` to determine which observations match and `OpSim`'s `filter_rows()` to remove those rows that do not match."
   ]
  },
  {
   "cell_type": "code",
   "execution_count": 4,
   "id": "54ebaed9",
   "metadata": {
    "execution": {
     "iopub.execute_input": "2025-09-09T21:30:05.630149Z",
     "iopub.status.busy": "2025-09-09T21:30:05.630041Z",
     "iopub.status.idle": "2025-09-09T21:30:06.692829Z",
     "shell.execute_reply": "2025-09-09T21:30:06.692525Z",
     "shell.execute_reply.started": "2025-09-09T21:30:05.630138Z"
    }
   },
   "outputs": [
    {
     "name": "stdout",
     "output_type": "stream",
     "text": [
      "Filtered OpSim to 1563870 rows and times [60980.00162606769, 64632.25331393084]\n"
     ]
    }
   ],
   "source": [
    "# Create a mask of matching filters.\n",
    "filter_mask = passband_group.mask_by_filter(opsim_db[\"filter\"])\n",
    "\n",
    "# Filter the OpSim\n",
    "opsim_db = opsim_db.filter_rows(filter_mask)\n",
    "t_min, t_max = opsim_db.time_bounds()\n",
    "print(f\"Filtered OpSim to {len(opsim_db)} rows and times [{t_min}, {t_max}]\")"
   ]
  },
  {
   "cell_type": "markdown",
   "id": "e7a3d3e3",
   "metadata": {},
   "source": [
    "## Create the model\n",
    "\n",
    "To generate simulationed lightcurves we need to define the proporties of the object from which to sample. We start by creating a host based on a pre-trained pzflow model."
   ]
  },
  {
   "cell_type": "code",
   "execution_count": 5,
   "id": "d9cfaa28-a072-4b7b-817c-166a344cc417",
   "metadata": {
    "execution": {
     "iopub.execute_input": "2025-09-09T21:30:06.693642Z",
     "iopub.status.busy": "2025-09-09T21:30:06.693476Z",
     "iopub.status.idle": "2025-09-09T21:30:08.631507Z",
     "shell.execute_reply": "2025-09-09T21:30:08.631149Z",
     "shell.execute_reply.started": "2025-09-09T21:30:06.693624Z"
    }
   },
   "outputs": [
    {
     "name": "stderr",
     "output_type": "stream",
     "text": [
      "INFO:2025-09-09 17:30:07,535:jax._src.xla_bridge:927: Unable to initialize backend 'rocm': module 'jaxlib.xla_extension' has no attribute 'GpuAllocatorConfig'\n",
      "2025-09-09 17:30:07,535 - INFO - Unable to initialize backend 'rocm': module 'jaxlib.xla_extension' has no attribute 'GpuAllocatorConfig'\n",
      "INFO:2025-09-09 17:30:07,539:jax._src.xla_bridge:927: Unable to initialize backend 'tpu': INTERNAL: Failed to open libtpu.so: dlopen(libtpu.so, 0x0001): tried: 'libtpu.so' (no such file), '/System/Volumes/Preboot/Cryptexes/OSlibtpu.so' (no such file), '/Users/sidchaini/miniconda3/envs/tdastro/lib/python3.12/site-packages/jaxlib/../../../libtpu.so' (no such file), '/Users/sidchaini/miniconda3/envs/tdastro/bin/../lib/libtpu.so' (no such file), '/usr/lib/libtpu.so' (no such file, not in dyld cache), 'libtpu.so' (no such file), '/usr/local/lib/libtpu.so' (no such file), '/usr/lib/libtpu.so' (no such file, not in dyld cache)\n",
      "2025-09-09 17:30:07,539 - INFO - Unable to initialize backend 'tpu': INTERNAL: Failed to open libtpu.so: dlopen(libtpu.so, 0x0001): tried: 'libtpu.so' (no such file), '/System/Volumes/Preboot/Cryptexes/OSlibtpu.so' (no such file), '/Users/sidchaini/miniconda3/envs/tdastro/lib/python3.12/site-packages/jaxlib/../../../libtpu.so' (no such file), '/Users/sidchaini/miniconda3/envs/tdastro/bin/../lib/libtpu.so' (no such file), '/usr/lib/libtpu.so' (no such file, not in dyld cache), 'libtpu.so' (no such file), '/usr/local/lib/libtpu.so' (no such file), '/usr/lib/libtpu.so' (no such file, not in dyld cache)\n"
     ]
    }
   ],
   "source": [
    "# Load the Flow model into a PZFlow node. This gives access to all of the outputs of the\n",
    "# flow model as attributes of the PZFlowNode.\n",
    "pz_node = PZFlowNode.from_file(\n",
    "    _TDASTRO_BASE_DATA_DIR / \"model_files\" / \"snia_hosts_test_pzflow.pkl\",  # filename\n",
    "    node_label=\"pznode\",\n",
    ")\n",
    "\n",
    "# Create a model for the host of the SNIa. The attributes will be sampled via\n",
    "# the PZFlowNode's model. So each host instantiation will have its own properties.\n",
    "# Note: This requires the user to know the output names from the underlying flow model.\n",
    "host = SNIaHost(\n",
    "    ra=pz_node.RA_GAL,\n",
    "    dec=pz_node.DEC_GAL,\n",
    "    hostmass=pz_node.LOGMASS,\n",
    "    redshift=NumpyRandomFunc(\"uniform\", low=0.1, high=0.6),\n",
    "    node_label=\"host\",\n",
    ")"
   ]
  },
  {
   "cell_type": "markdown",
   "id": "3e28d732",
   "metadata": {},
   "source": [
    "Next we create the SNIa model itself. We use sncomso's SALT2 model with parameters randomly generated from realistic distributions.\n",
    "\n",
    "Note that some attributes, such as (RA, dec), are sampled relative to the host's properties."
   ]
  },
  {
   "cell_type": "code",
   "execution_count": 6,
   "id": "64a0b6a8-ebaf-4390-9a6d-22d5b11e8a2f",
   "metadata": {
    "execution": {
     "iopub.execute_input": "2025-09-09T21:30:08.632457Z",
     "iopub.status.busy": "2025-09-09T21:30:08.632248Z",
     "iopub.status.idle": "2025-09-09T21:30:09.681688Z",
     "shell.execute_reply": "2025-09-09T21:30:09.681408Z",
     "shell.execute_reply.started": "2025-09-09T21:30:08.632447Z"
    }
   },
   "outputs": [],
   "source": [
    "distmod_func = DistModFromRedshift(host.redshift, H0=73.0, Omega_m=0.3)\n",
    "x1_func = HostmassX1Func(host.hostmass)\n",
    "c_func = NumpyRandomFunc(\"normal\", loc=0, scale=0.02)\n",
    "m_abs_func = NumpyRandomFunc(\"normal\", loc=-19.3, scale=0.1)\n",
    "x0_func = X0FromDistMod(\n",
    "    distmod=distmod_func,\n",
    "    x1=x1_func,\n",
    "    c=c_func,\n",
    "    alpha=0.14,\n",
    "    beta=3.1,\n",
    "    m_abs=m_abs_func,\n",
    "    node_label=\"x0_func\",\n",
    ")\n",
    "\n",
    "sncosmo_modelname = \"salt2-h17\"\n",
    "source = SncosmoWrapperModel(\n",
    "    sncosmo_modelname,\n",
    "    t0=NumpyRandomFunc(\"uniform\", low=t_min, high=t_max),\n",
    "    x0=x0_func,\n",
    "    x1=x1_func,\n",
    "    c=c_func,\n",
    "    ra=NumpyRandomFunc(\"normal\", loc=host.ra, scale=0.01),\n",
    "    dec=NumpyRandomFunc(\"normal\", loc=host.dec, scale=0.01),\n",
    "    redshift=host.redshift,\n",
    "    node_label=\"source\",\n",
    ")"
   ]
  },
  {
   "cell_type": "markdown",
   "id": "b427399b-f917-47c4-9d24-3a78760361e9",
   "metadata": {},
   "source": [
    "## Generate the simulations\n",
    "\n",
    "We can now generate random simulations with all the information defined above. The light curves are written in the [nested-pandas](https://github.com/lincc-frameworks/nested-pandas) format for easy analysis. "
   ]
  },
  {
   "cell_type": "code",
   "execution_count": 7,
   "id": "adb0f43c-da6f-433b-b2fc-3478f8adea0c",
   "metadata": {
    "execution": {
     "iopub.execute_input": "2025-09-09T21:30:09.682164Z",
     "iopub.status.busy": "2025-09-09T21:30:09.681971Z",
     "iopub.status.idle": "2025-09-09T21:30:12.280578Z",
     "shell.execute_reply": "2025-09-09T21:30:12.280302Z",
     "shell.execute_reply.started": "2025-09-09T21:30:09.682155Z"
    }
   },
   "outputs": [
    {
     "name": "stdout",
     "output_type": "stream",
     "text": [
      "      id         ra        dec  nobs         z  \\\n",
      "0      0  55.346104 -43.187587     0  0.561956   \n",
      "1      1  55.133758 -43.357337    14  0.299201   \n",
      "..   ...        ...        ...   ...       ...   \n",
      "998  998  55.281624 -43.205497     5  0.211446   \n",
      "999  999  55.134281 -43.338373     6  0.153598   \n",
      "\n",
      "                                                params  \\\n",
      "0    {'pznode.RA_GAL': 55.351574, 'pznode.DEC_GAL':...   \n",
      "1    {'pznode.RA_GAL': 55.13494, 'pznode.DEC_GAL': ...   \n",
      "..                                                 ...   \n",
      "998  {'pznode.RA_GAL': 55.28195, 'pznode.DEC_GAL': ...   \n",
      "999  {'pznode.RA_GAL': 55.125534, 'pznode.DEC_GAL':...   \n",
      "\n",
      "                                            lightcurve  \n",
      "0                                                 None  \n",
      "1    [{mjd: 62489.040285, filter: 'z', flux: 8628.7...  \n",
      "..                                                 ...  \n",
      "998  [{mjd: 61454.02357, filter: 'i', flux: 13192.6...  \n",
      "999  [{mjd: 63144.369221, filter: 'r', flux: 16352....  \n",
      "\n",
      "[1000 rows x 7 columns]\n"
     ]
    }
   ],
   "source": [
    "lightcurves = simulate_lightcurves(source, 1_000, opsim_db, passband_group, time_window_offset=(-30,70))\n",
    "print(lightcurves)"
   ]
  },
  {
   "cell_type": "code",
   "execution_count": null,
   "id": "670665e4-5add-4bf6-9f9b-e10fb5c6e58e",
   "metadata": {},
   "outputs": [],
   "source": []
  },
  {
   "cell_type": "code",
   "execution_count": null,
   "id": "34aaa65d-aa30-4fe9-9400-49d3c123aa35",
   "metadata": {},
   "outputs": [],
   "source": []
  },
  {
   "cell_type": "code",
   "execution_count": null,
   "id": "3c075ed2-4c7e-48f5-8f7a-eb1a6d27b421",
   "metadata": {},
   "outputs": [],
   "source": []
  },
  {
   "cell_type": "code",
   "execution_count": 62,
   "id": "84646048-73f6-48a5-99bf-e889c76293c2",
   "metadata": {
    "execution": {
     "iopub.execute_input": "2025-09-09T21:13:58.733454Z",
     "iopub.status.busy": "2025-09-09T21:13:58.732852Z",
     "iopub.status.idle": "2025-09-09T21:13:58.747229Z",
     "shell.execute_reply": "2025-09-09T21:13:58.746389Z",
     "shell.execute_reply.started": "2025-09-09T21:13:58.733422Z"
    }
   },
   "outputs": [
    {
     "data": {
      "text/plain": [
       "<tdastro.models.sncomso_models.SncosmoWrapperModel at 0x3e2459d90>"
      ]
     },
     "execution_count": 62,
     "metadata": {},
     "output_type": "execute_result"
    }
   ],
   "source": [
    "model.evaluate_bandfluxes(\n",
    "    passbands[survey_idx], obs_times, obs_filters, state\n",
    ")\n"
   ]
  },
  {
   "cell_type": "code",
   "execution_count": 18,
   "id": "e6ef9ced-783e-46a8-80b1-ebd62dcc13ab",
   "metadata": {
    "execution": {
     "iopub.execute_input": "2025-09-09T20:57:26.885287Z",
     "iopub.status.busy": "2025-09-09T20:57:26.880122Z",
     "iopub.status.idle": "2025-09-09T20:57:26.908283Z",
     "shell.execute_reply": "2025-09-09T20:57:26.907774Z",
     "shell.execute_reply.started": "2025-09-09T20:57:26.885193Z"
    }
   },
   "outputs": [],
   "source": [
    "# # Dictionary to hold the new, perfectly-sampled light curves\n",
    "# perfect_lightcurves = {}\n",
    "\n",
    "# # The filters you want in your perfect light curve\n",
    "# filters_to_evaluate = [\"g\", \"r\", \"i\", \"z\"]\n",
    "\n",
    "# # Loop through each of the 1,000 supernovae you already simulated\n",
    "# for i, row in lightcurves.iterrows():\n",
    "#     # Get the sampled parameters for this specific supernova\n",
    "#     state_dict = row[\"params\"]\n",
    "    \n",
    "#     # We need to reconstruct a State object from the dictionary for the model\n",
    "#     # Note: Depending on the complexity of the model, you might need to\n",
    "#     # re-sample or reconstruct the state in a more detailed way.\n",
    "#     # For many models, passing the dictionary of parameters may be sufficient\n",
    "#     # if the model can resolve it. A robust way is to re-evaluate the model graph\n",
    "#     # with the specific parameter values.\n",
    "#     # However, for this salt2 model, we can directly access t0.\n",
    "#     t0 = state_dict['source.t0']\n",
    "\n",
    "#     # 1. Define the \"perfect\" time sampling\n",
    "#     # Let's create a daily grid from 50 days before t0 to 150 days after\n",
    "#     perfect_times = np.arange(t0 - 50, t0 + 150, 1.0)\n",
    "    \n",
    "#     perfect_obs = []\n",
    "#     # 2. Evaluate the model at these times for each filter\n",
    "#     for band in filters_to_evaluate:\n",
    "#         # Create an array of the same filter for each time\n",
    "#         # perfect_filters = np.full_like(perfect_times, band)\n",
    "#         perfect_filters = np.full(perfect_times.shape, band)\n",
    "\n",
    "        \n",
    "#         # Calculate the perfect, noise-free bandflux\n",
    "#         # We pass the state_dict as the 'state'\n",
    "#         bandfluxes_perfect = source.evaluate_bandfluxes(\n",
    "#             passband_group, perfect_times, perfect_filters, state_dict\n",
    "#         )\n",
    "        \n",
    "#         # Store the results for this band\n",
    "#         for t, f in zip(perfect_times, bandfluxes_perfect):\n",
    "#             perfect_obs.append({'mjd': t, 'filter': band, 'flux_perfect': f})\n",
    "            \n",
    "#     # Store all observations for this object\n",
    "#     perfect_lightcurves[i] = pd.DataFrame(perfect_obs)\n",
    "\n",
    "# # You now have a dictionary `perfect_lightcurves` where each key is the object's\n",
    "# # original index and the value is a DataFrame with its perfectly sampled light curve.\n",
    "\n",
    "# # Example: Print the perfect light curve for the first object\n",
    "# print(\"\\nPerfectly-sampled light curve for object 0:\")\n",
    "# print(perfect_lightcurves[0])"
   ]
  },
  {
   "cell_type": "code",
   "execution_count": 45,
   "id": "8162b095-68e4-490d-b061-b31822f3016b",
   "metadata": {
    "execution": {
     "iopub.execute_input": "2025-09-09T21:08:32.253456Z",
     "iopub.status.busy": "2025-09-09T21:08:32.251940Z",
     "iopub.status.idle": "2025-09-09T21:08:32.575780Z",
     "shell.execute_reply": "2025-09-09T21:08:32.575427Z",
     "shell.execute_reply.started": "2025-09-09T21:08:32.253396Z"
    }
   },
   "outputs": [],
   "source": [
    "# --- Continuation from your script ---\n",
    "\n",
    "import pandas as pd\n",
    "import numpy as np\n",
    "import sncosmo  # <-- Import the sncosmo library\n",
    "\n",
    "# Dictionary to hold the new, perfectly-sampled light curves\n",
    "perfect_lightcurves = {}\n",
    "\n",
    "# The filters you want in your perfect light curve\n",
    "filters_to_evaluate = [\"g\", \"r\", \"i\", \"z\"]\n",
    "\n",
    "# The sncosmo model name used when creating the tdastro source\n",
    "# This must match what you defined earlier.\n",
    "sncosmo_modelname = \"salt2-h17\"\n",
    "\n",
    "# Loop through each of the 1,000 supernovae you already simulated\n",
    "for i, row in lightcurves.iterrows():\n",
    "    state_dict = row[\"params\"]\n",
    "\n",
    "    model = sncosmo.Model(source=sncosmo_modelname)\n",
    "    sncosmo_params = {\n",
    "        'z':state_dict['source.redshift'],\n",
    "        't0':state_dict['source.t0'],\n",
    "        'x0':state_dict['source.x0'],\n",
    "        'x1':state_dict['source.x1'],\n",
    "        'c':state_dict['source.c'],\n",
    "    }\n",
    "    model.set(**sncosmo_params)\n",
    "\n",
    "    break\n",
    "    # 4. Define the \"perfect\" time sampling grid\n",
    "    perfect_times = np.arange(t0 - 50, t0 + 150, 1.0)\n",
    "    \n",
    "    perfect_obs = []\n",
    "    # 5. Evaluate the sncosmo model at these times for each filter\n",
    "    for band in filters_to_evaluate:\n",
    "        # Get the sncosmo.Bandpass object from the tdastro PassbandGroup\n",
    "        # sncosmo needs the actual bandpass data to calculate the flux.\n",
    "        # passband_obj = passband_group.get_passband(band)\n",
    "        passband_obj = passband_group.passbands.keys()\n",
    "\n",
    "        # Calculate the perfect, noise-free flux using the sncosmo model.\n",
    "        # We pass the absolute MJD times; the model uses its 't0' parameter internally.\n",
    "        bandfluxes_perfect = model.bandflux(\n",
    "            passband_obj,\n",
    "            perfect_times,\n",
    "            zp=passband_group.zeropoint,\n",
    "            zpsys='ab'\n",
    "        )\n",
    "        \n",
    "        # Store the results for this band\n",
    "        for t, f in zip(perfect_times, bandfluxes_perfect):\n",
    "            perfect_obs.append({'mjd': t, 'filter': band, 'flux_perfect': f})\n",
    "            \n",
    "    # Store all observations for this object in a DataFrame\n",
    "    perfect_lightcurves[i] = pd.DataFrame(perfect_obs)\n",
    "\n",
    "# You now have the final dictionary `perfect_lightcurves`"
   ]
  },
  {
   "cell_type": "code",
   "execution_count": null,
   "id": "332bbdeb-7b95-464e-8688-dac1c5c75f0e",
   "metadata": {},
   "outputs": [],
   "source": [
    "\n",
    "# Example: Print the perfect light curve for the first object\n",
    "print(\"\\nPerfectly-sampled light curve for object 0:\")\n",
    "print(perfect_lightcurves[0].head())\n",
    "\n",
    "# Example: Plot the result to verify\n",
    "import matplotlib.pyplot as plt\n",
    "\n",
    "first_lc = perfect_lightcurves[0]\n",
    "for band in filters_to_evaluate:\n",
    "    band_df = first_lc[first_lc['filter'] == band]\n",
    "    plt.plot(band_df['mjd'], band_df['flux_perfect'], marker='.', linestyle='-', label=f'Filter {band}')\n",
    "\n",
    "plt.xlabel(\"MJD\")\n",
    "plt.ylabel(\"Perfect Flux\")\n",
    "plt.title(\"Perfectly Sampled Light Curve for Object 0\")\n",
    "plt.legend()\n",
    "plt.grid(True)\n",
    "plt.show()"
   ]
  },
  {
   "cell_type": "code",
   "execution_count": 11,
   "id": "7707495e-3511-40f4-8cc7-f5907dadaa28",
   "metadata": {
    "execution": {
     "iopub.execute_input": "2025-09-09T21:31:27.501132Z",
     "iopub.status.busy": "2025-09-09T21:31:27.500363Z",
     "iopub.status.idle": "2025-09-09T21:31:27.929957Z",
     "shell.execute_reply": "2025-09-09T21:31:27.929172Z",
     "shell.execute_reply.started": "2025-09-09T21:31:27.501075Z"
    }
   },
   "outputs": [
    {
     "name": "stdout",
     "output_type": "stream",
     "text": [
      "Found existing installation: tdastro 0.0.7\n",
      "Uninstalling tdastro-0.0.7:\n",
      "  Successfully uninstalled tdastro-0.0.7\n"
     ]
    }
   ],
   "source": [
    "!pip uninstall tdastro --y"
   ]
  },
  {
   "cell_type": "markdown",
   "id": "9085a04a-28e2-465f-96fd-f397af618a6c",
   "metadata": {},
   "source": [
    "Now let's plot some random light curves"
   ]
  },
  {
   "cell_type": "code",
   "execution_count": 9,
   "id": "f7b316f6-5758-452c-a254-477f817efdb1",
   "metadata": {
    "execution": {
     "iopub.execute_input": "2025-09-09T21:31:15.521999Z",
     "iopub.status.busy": "2025-09-09T21:31:15.520767Z",
     "iopub.status.idle": "2025-09-09T21:31:16.054014Z",
     "shell.execute_reply": "2025-09-09T21:31:16.053559Z",
     "shell.execute_reply.started": "2025-09-09T21:31:15.521956Z"
    }
   },
   "outputs": [
    {
     "data": {
      "image/png": "[encoded data removed]",
      "text/plain": [
       "<Figure size 640x480 with 1 Axes>"
      ]
     },
     "metadata": {},
     "output_type": "display_data"
    },
    {
     "data": {
      "image/png": "[encoded data removed]",
      "text/plain": [
       "<Figure size 640x480 with 1 Axes>"
      ]
     },
     "metadata": {},
     "output_type": "display_data"
    },
    {
     "data": {
      "image/png": "[encoded data removed]",
      "text/plain": [
       "<Figure size 640x480 with 1 Axes>"
      ]
     },
     "metadata": {},
     "output_type": "display_data"
    },
    {
     "data": {
      "image/png": "[encoded data removed]",
      "text/plain": [
       "<Figure size 640x480 with 1 Axes>"
      ]
     },
     "metadata": {},
     "output_type": "display_data"
    },
    {
     "data": {
      "image/png": "[encoded data removed]",
      "text/plain": [
       "<Figure size 640x480 with 1 Axes>"
      ]
     },
     "metadata": {},
     "output_type": "display_data"
    }
   ],
   "source": [
    "random_ids = np.random.choice(len(lightcurves), 10)\n",
    "\n",
    "for random_id in random_ids:\n",
    "    # Extract the row for this object.\n",
    "    lc = lightcurves.loc[random_id]\n",
    "\n",
    "    if lc[\"nobs\"] > 0:\n",
    "        # Unpack the nested columns (filters, mjd, flux, and flux error).\n",
    "        lc_filters = np.asarray(lc[\"lightcurve\"][\"filter\"], dtype=str)\n",
    "        lc_mjd = np.asarray(lc[\"lightcurve\"][\"mjd\"], dtype=float)\n",
    "        lc_flux = np.asarray(lc[\"lightcurve\"][\"flux\"], dtype=float)\n",
    "        lc_fluxerr = np.asarray(lc[\"lightcurve\"][\"fluxerr\"], dtype=float)\n",
    "\n",
    "        plot_lightcurves(\n",
    "            fluxes=lc_flux,\n",
    "            times=lc_mjd,\n",
    "            fluxerrs=lc_fluxerr,\n",
    "            filters=lc_filters,\n",
    "        )"
   ]
  },
  {
   "cell_type": "code",
   "execution_count": null,
   "id": "11bf5673-787b-4db5-978d-bc735bdbc12c",
   "metadata": {},
   "outputs": [],
   "source": []
  }
 ],
 "metadata": {
  "kernelspec": {
   "display_name": "Python 3 (ipykernel)",
   "language": "python",
   "name": "python3"
  },
  "language_info": {
   "codemirror_mode": {
    "name": "ipython",
    "version": 3
   },
   "file_extension": ".py",
   "mimetype": "text/x-python",
   "name": "python",
   "nbconvert_exporter": "python",
   "pygments_lexer": "ipython3",
   "version": "3.12.11"
  }
 },
 "nbformat": 4,
 "nbformat_minor": 5
}
