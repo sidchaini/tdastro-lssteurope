{
 "cells": [
  {
   "cell_type": "code",
   "execution_count": 1,
   "id": "580d4fbb-3ad8-4c2d-aa8d-361109cf6982",
   "metadata": {
    "execution": {
     "iopub.execute_input": "2025-09-08T04:32:09.426394Z",
     "iopub.status.busy": "2025-09-08T04:32:09.425320Z",
     "iopub.status.idle": "2025-09-08T04:32:11.883400Z",
     "shell.execute_reply": "2025-09-08T04:32:11.883131Z",
     "shell.execute_reply.started": "2025-09-08T04:32:09.426329Z"
    }
   },
   "outputs": [],
   "source": [
    "import numpy as np\n",
    "import matplotlib.pyplot as plt\n",
    "\n",
    "from tdastro.astro_utils.passbands import PassbandGroup\n",
    "from tdastro.astro_utils.pzflow_node import PZFlowNode\n",
    "from tdastro.astro_utils.snia_utils import (\n",
    "    DistModFromRedshift,\n",
    "    HostmassX1Func,\n",
    "    X0FromDistMod,\n",
    ")\n",
    "from tdastro.math_nodes.np_random import NumpyRandomFunc\n",
    "from tdastro.obstable.opsim import OpSim\n",
    "from tdastro.simulate import simulate_lightcurves\n",
    "from tdastro.models.sncomso_models import SncosmoWrapperModel\n",
    "from tdastro.models.snia_host import SNIaHost\n",
    "from tdastro.utils.plotting import plot_lightcurves\n",
    "from tdastro.math_nodes.ra_dec_sampler import ObsTableRADECSampler\n",
    "\n",
    "from tdastro import _TDASTRO_BASE_DATA_DIR"
   ]
  },
  {
   "cell_type": "code",
   "execution_count": 2,
   "id": "83296620-2735-4c42-8b64-8bcd1a2ac07e",
   "metadata": {
    "execution": {
     "iopub.execute_input": "2025-09-08T04:32:46.082367Z",
     "iopub.status.busy": "2025-09-08T04:32:46.081883Z",
     "iopub.status.idle": "2025-09-08T04:33:57.831974Z",
     "shell.execute_reply": "2025-09-08T04:33:57.831299Z",
     "shell.execute_reply.started": "2025-09-08T04:32:46.082319Z"
    }
   },
   "outputs": [
    {
     "name": "stderr",
     "output_type": "stream",
     "text": [
      "2025-09-08 00:33:57,792 - INFO - Loading passbands from preset LSST\n",
      "2025-09-08 00:33:57,795 - INFO - Data file /Users/sidchaini/miniconda3/envs/tdastro/lib/python3.12/data/passbands/LSST/u.dat already exists. Skipping download.\n",
      "2025-09-08 00:33:57,795 - INFO - Loading passband from file: /Users/sidchaini/miniconda3/envs/tdastro/lib/python3.12/data/passbands/LSST/u.dat\n",
      "2025-09-08 00:33:57,802 - INFO - Data file /Users/sidchaini/miniconda3/envs/tdastro/lib/python3.12/data/passbands/LSST/g.dat already exists. Skipping download.\n",
      "2025-09-08 00:33:57,802 - INFO - Loading passband from file: /Users/sidchaini/miniconda3/envs/tdastro/lib/python3.12/data/passbands/LSST/g.dat\n",
      "2025-09-08 00:33:57,806 - INFO - Data file /Users/sidchaini/miniconda3/envs/tdastro/lib/python3.12/data/passbands/LSST/r.dat already exists. Skipping download.\n",
      "2025-09-08 00:33:57,807 - INFO - Loading passband from file: /Users/sidchaini/miniconda3/envs/tdastro/lib/python3.12/data/passbands/LSST/r.dat\n",
      "2025-09-08 00:33:57,812 - INFO - Data file /Users/sidchaini/miniconda3/envs/tdastro/lib/python3.12/data/passbands/LSST/i.dat already exists. Skipping download.\n",
      "2025-09-08 00:33:57,812 - INFO - Loading passband from file: /Users/sidchaini/miniconda3/envs/tdastro/lib/python3.12/data/passbands/LSST/i.dat\n",
      "2025-09-08 00:33:57,817 - INFO - Data file /Users/sidchaini/miniconda3/envs/tdastro/lib/python3.12/data/passbands/LSST/z.dat already exists. Skipping download.\n",
      "2025-09-08 00:33:57,818 - INFO - Loading passband from file: /Users/sidchaini/miniconda3/envs/tdastro/lib/python3.12/data/passbands/LSST/z.dat\n",
      "2025-09-08 00:33:57,823 - INFO - Data file /Users/sidchaini/miniconda3/envs/tdastro/lib/python3.12/data/passbands/LSST/y.dat already exists. Skipping download.\n",
      "2025-09-08 00:33:57,824 - INFO - Loading passband from file: /Users/sidchaini/miniconda3/envs/tdastro/lib/python3.12/data/passbands/LSST/y.dat\n"
     ]
    },
    {
     "name": "stdout",
     "output_type": "stream",
     "text": [
      "Loaded OpSim with 2048612 rows and times [60980.00162606769, 64632.272916088485]\n",
      "Loaded Passbands: PassbandGroup containing 4 passbands: LSST_g, LSST_r, LSST_i, LSST_z\n"
     ]
    }
   ],
   "source": [
    "# Load the OpSim data.\n",
    "opsim_db = OpSim.from_db(\"/Users/sidchaini/miniconda3/envs/tdastro/lib/python3.12/data/opsim/baseline_v5.0.0_10yrs.db\")\n",
    "\n",
    "t_min, t_max = opsim_db.time_bounds()\n",
    "print(f\"Loaded OpSim with {len(opsim_db)} rows and times [{t_min}, {t_max}]\")\n",
    "\n",
    "# Load the passband data for the griz filters only.\n",
    "# Use a (possibly older) cached version of the passbands to avoid downloading them.\n",
    "passband_group = PassbandGroup.from_preset(\n",
    "    preset=\"LSST\",\n",
    "    filters=[\"g\", \"r\", \"i\", \"z\"],\n",
    "    units=\"nm\",\n",
    "    trim_quantile=0.001,\n",
    "    delta_wave=1,\n",
    ")\n",
    "print(f\"Loaded Passbands: {passband_group}\")"
   ]
  },
  {
   "cell_type": "code",
   "execution_count": 3,
   "id": "130369c5-0a12-40f9-b8d1-19ca48f3f656",
   "metadata": {
    "execution": {
     "iopub.execute_input": "2025-09-08T04:33:57.832982Z",
     "iopub.status.busy": "2025-09-08T04:33:57.832824Z",
     "iopub.status.idle": "2025-09-08T04:33:58.945347Z",
     "shell.execute_reply": "2025-09-08T04:33:58.945056Z",
     "shell.execute_reply.started": "2025-09-08T04:33:57.832971Z"
    }
   },
   "outputs": [
    {
     "name": "stdout",
     "output_type": "stream",
     "text": [
      "Filtered OpSim to 1563870 rows and times [60980.00162606769, 64632.25331393084]\n"
     ]
    }
   ],
   "source": [
    "# Create a mask of matching filters.\n",
    "filter_mask = passband_group.mask_by_filter(opsim_db[\"filter\"])\n",
    "\n",
    "# Filter the OpSim\n",
    "opsim_db = opsim_db.filter_rows(filter_mask)\n",
    "t_min, t_max = opsim_db.time_bounds()\n",
    "print(f\"Filtered OpSim to {len(opsim_db)} rows and times [{t_min}, {t_max}]\")"
   ]
  },
  {
   "cell_type": "code",
   "execution_count": 14,
   "id": "d3594f17-a58f-4d72-951e-609138bf30a3",
   "metadata": {
    "execution": {
     "iopub.execute_input": "2025-09-08T04:39:38.213028Z",
     "iopub.status.busy": "2025-09-08T04:39:38.210073Z",
     "iopub.status.idle": "2025-09-08T04:39:48.140897Z",
     "shell.execute_reply": "2025-09-08T04:39:48.140008Z",
     "shell.execute_reply.started": "2025-09-08T04:39:38.212892Z"
    }
   },
   "outputs": [
    {
     "ename": "FileNotFoundError",
     "evalue": "[Errno 2] No such file or directory: '/Users/sidchaini/miniconda3/envs/tdastro/lib/python3.12/data/model_files/snia_hosts_test_pzflow.pkl'",
     "output_type": "error",
     "traceback": [
      "\u001b[31m---------------------------------------------------------------------------\u001b[39m",
      "\u001b[31mFileNotFoundError\u001b[39m                         Traceback (most recent call last)",
      "\u001b[36mCell\u001b[39m\u001b[36m \u001b[39m\u001b[32mIn[14]\u001b[39m\u001b[32m, line 3\u001b[39m\n\u001b[32m      1\u001b[39m \u001b[38;5;66;03m# Load the Flow model into a PZFlow node. This gives access to all of the outputs of the\u001b[39;00m\n\u001b[32m      2\u001b[39m \u001b[38;5;66;03m# flow model as attributes of the PZFlowNode.\u001b[39;00m\n\u001b[32m----> \u001b[39m\u001b[32m3\u001b[39m pz_node = \u001b[43mPZFlowNode\u001b[49m\u001b[43m.\u001b[49m\u001b[43mfrom_file\u001b[49m\u001b[43m(\u001b[49m\n\u001b[32m      4\u001b[39m \u001b[43m    \u001b[49m\u001b[43m_TDASTRO_BASE_DATA_DIR\u001b[49m\u001b[43m \u001b[49m\u001b[43m/\u001b[49m\u001b[43m \u001b[49m\u001b[33;43m\"\u001b[39;49m\u001b[33;43mmodel_files\u001b[39;49m\u001b[33;43m\"\u001b[39;49m\u001b[43m \u001b[49m\u001b[43m/\u001b[49m\u001b[43m \u001b[49m\u001b[33;43m\"\u001b[39;49m\u001b[33;43msnia_hosts_test_pzflow.pkl\u001b[39;49m\u001b[33;43m\"\u001b[39;49m\u001b[43m,\u001b[49m\u001b[43m  \u001b[49m\u001b[38;5;66;43;03m# filename\u001b[39;49;00m\n\u001b[32m      5\u001b[39m \u001b[43m    \u001b[49m\u001b[43mnode_label\u001b[49m\u001b[43m=\u001b[49m\u001b[33;43m\"\u001b[39;49m\u001b[33;43mpznode\u001b[39;49m\u001b[33;43m\"\u001b[39;49m\u001b[43m,\u001b[49m\n\u001b[32m      6\u001b[39m \u001b[43m)\u001b[49m\n\u001b[32m      8\u001b[39m \u001b[38;5;66;03m# Create a model for the host of the SNIa. The attributes will be sampled via\u001b[39;00m\n\u001b[32m      9\u001b[39m \u001b[38;5;66;03m# the PZFlowNode's model. So each host instantiation will have its own properties.\u001b[39;00m\n\u001b[32m     10\u001b[39m \u001b[38;5;66;03m# Note: This requires the user to know the output names from the underlying flow model.\u001b[39;00m\n\u001b[32m     11\u001b[39m host = SNIaHost(\n\u001b[32m     12\u001b[39m     ra=pz_node.RA_GAL,\n\u001b[32m     13\u001b[39m     dec=pz_node.DEC_GAL,\n\u001b[32m   (...)\u001b[39m\u001b[32m     16\u001b[39m     node_label=\u001b[33m\"\u001b[39m\u001b[33mhost\u001b[39m\u001b[33m\"\u001b[39m,\n\u001b[32m     17\u001b[39m )\n",
      "\u001b[36mFile \u001b[39m\u001b[32m~/miniconda3/envs/tdastro/lib/python3.12/site-packages/tdastro/astro_utils/pzflow_node.py:72\u001b[39m, in \u001b[36mPZFlowNode.from_file\u001b[39m\u001b[34m(cls, filename, node_label, **kwargs)\u001b[39m\n\u001b[32m     66\u001b[39m \u001b[38;5;28;01mexcept\u001b[39;00m \u001b[38;5;167;01mImportError\u001b[39;00m \u001b[38;5;28;01mas\u001b[39;00m err:\n\u001b[32m     67\u001b[39m     \u001b[38;5;28;01mraise\u001b[39;00m \u001b[38;5;167;01mImportError\u001b[39;00m(\n\u001b[32m     68\u001b[39m         \u001b[33m\"\u001b[39m\u001b[33mpzflow package is not installed be default. You can install it with \u001b[39m\u001b[33m\"\u001b[39m\n\u001b[32m     69\u001b[39m         \u001b[33m\"\u001b[39m\u001b[33m`pip install pzflow` or `conda install conda-forge::pzflow`.\u001b[39m\u001b[33m\"\u001b[39m\n\u001b[32m     70\u001b[39m     ) \u001b[38;5;28;01mfrom\u001b[39;00m\u001b[38;5;250m \u001b[39m\u001b[34;01merr\u001b[39;00m\n\u001b[32m---> \u001b[39m\u001b[32m72\u001b[39m flow_to_use = \u001b[43mFlow\u001b[49m\u001b[43m(\u001b[49m\u001b[43mfile\u001b[49m\u001b[43m=\u001b[49m\u001b[43mfilename\u001b[49m\u001b[43m)\u001b[49m\n\u001b[32m     73\u001b[39m \u001b[38;5;28;01mreturn\u001b[39;00m PZFlowNode(flow_to_use, node_label=node_label, **kwargs)\n",
      "\u001b[36mFile \u001b[39m\u001b[32m~/miniconda3/envs/tdastro/lib/python3.12/site-packages/pzflow/flow.py:156\u001b[39m, in \u001b[36mFlow.__init__\u001b[39m\u001b[34m(self, data_columns, bijector, latent, conditional_columns, data_error_model, condition_error_model, autoscale_conditions, seed, info, file, _dictionary)\u001b[39m\n\u001b[32m    154\u001b[39m save_dict = \u001b[38;5;28mself\u001b[39m._save_dict()\n\u001b[32m    155\u001b[39m \u001b[38;5;28;01mif\u001b[39;00m file \u001b[38;5;129;01mis\u001b[39;00m \u001b[38;5;129;01mnot\u001b[39;00m \u001b[38;5;28;01mNone\u001b[39;00m:\n\u001b[32m--> \u001b[39m\u001b[32m156\u001b[39m     \u001b[38;5;28;01mwith\u001b[39;00m \u001b[38;5;28;43mopen\u001b[39;49m\u001b[43m(\u001b[49m\u001b[43mfile\u001b[49m\u001b[43m,\u001b[49m\u001b[43m \u001b[49m\u001b[33;43m\"\u001b[39;49m\u001b[33;43mrb\u001b[39;49m\u001b[33;43m\"\u001b[39;49m\u001b[43m)\u001b[49m \u001b[38;5;28;01mas\u001b[39;00m handle:\n\u001b[32m    157\u001b[39m         save_dict.update(pickle.load(handle))\n\u001b[32m    158\u001b[39m \u001b[38;5;28;01melse\u001b[39;00m:\n",
      "\u001b[31mFileNotFoundError\u001b[39m: [Errno 2] No such file or directory: '/Users/sidchaini/miniconda3/envs/tdastro/lib/python3.12/data/model_files/snia_hosts_test_pzflow.pkl'"
     ]
    }
   ],
   "source": [
    "# Load the Flow model into a PZFlow node. This gives access to all of the outputs of the\n",
    "# flow model as attributes of the PZFlowNode.\n",
    "pz_node = PZFlowNode.from_file(\n",
    "    _TDASTRO_BASE_DATA_DIR / \"model_files\" / \"snia_hosts_test_pzflow.pkl\",  # filename\n",
    "    node_label=\"pznode\",\n",
    ")\n",
    "\n",
    "# Create a model for the host of the SNIa. The attributes will be sampled via\n",
    "# the PZFlowNode's model. So each host instantiation will have its own properties.\n",
    "# Note: This requires the user to know the output names from the underlying flow model.\n",
    "host = SNIaHost(\n",
    "    ra=pz_node.RA_GAL,\n",
    "    dec=pz_node.DEC_GAL,\n",
    "    hostmass=pz_node.LOGMASS,\n",
    "    redshift=NumpyRandomFunc(\"uniform\", low=0.1, high=0.6),\n",
    "    node_label=\"host\",\n",
    ")"
   ]
  },
  {
   "cell_type": "code",
   "execution_count": null,
   "id": "c8333c1a-d2fd-4aff-bbb4-8ba51845c5a8",
   "metadata": {},
   "outputs": [],
   "source": []
  },
  {
   "cell_type": "code",
   "execution_count": null,
   "id": "12f102c6-f0e7-4693-925a-7fe73c1aedd8",
   "metadata": {},
   "outputs": [],
   "source": []
  },
  {
   "cell_type": "code",
   "execution_count": null,
   "id": "ca042e58-4d42-4586-86f2-43d487c973d4",
   "metadata": {},
   "outputs": [],
   "source": []
  },
  {
   "cell_type": "code",
   "execution_count": 11,
   "id": "06f92a95-2124-4b9a-ae4d-4e8dc8d7b092",
   "metadata": {
    "execution": {
     "iopub.execute_input": "2025-09-08T04:37:22.902288Z",
     "iopub.status.busy": "2025-09-08T04:37:22.895725Z",
     "iopub.status.idle": "2025-09-08T04:37:22.927977Z",
     "shell.execute_reply": "2025-09-08T04:37:22.926459Z",
     "shell.execute_reply.started": "2025-09-08T04:37:22.902198Z"
    }
   },
   "outputs": [],
   "source": [
    "model= SncosmoWrapperModel(\"salt2\",\n",
    "    # minimalist parameterization; sample redshift, phase t0, and amplitude\n",
    "    redshift=NumpyRandomFunc(\"uniform\", low=0.01, high=0.6),\n",
    "    t0=NumpyRandomFunc(\"uniform\", low=t_min, high=t_max),  # MJD range inside OpSim window\n",
    "    x1=NumpyRandomFunc(\"normal\", loc=0.0, scale=1.0),\n",
    "    c=NumpyRandomFunc(\"normal\", loc=0.0, scale=0.1),\n",
    "    amplitude=NumpyRandomFunc(\"lognormal\", mean=0.0, sigma=1.0),\n",
    "    node_label=\"SNIa_salt2\"\n",
    "),"
   ]
  },
  {
   "cell_type": "code",
   "execution_count": null,
   "id": "939a57a9-68ff-42f7-a201-1c5ce472660d",
   "metadata": {},
   "outputs": [],
   "source": []
  },
  {
   "cell_type": "code",
   "execution_count": 12,
   "id": "5a6c3990-0f10-427b-969b-8ad77c494d9d",
   "metadata": {
    "execution": {
     "iopub.execute_input": "2025-09-08T04:37:25.522524Z",
     "iopub.status.busy": "2025-09-08T04:37:25.522223Z",
     "iopub.status.idle": "2025-09-08T04:37:25.586836Z",
     "shell.execute_reply": "2025-09-08T04:37:25.586356Z",
     "shell.execute_reply.started": "2025-09-08T04:37:25.522508Z"
    }
   },
   "outputs": [],
   "source": [
    "# Use an OpSim based sampler for position.\n",
    "ra_dec_sampler = ObsTableRADECSampler(\n",
    "    opsim_db,\n",
    "    radius=3.0,  # degrees\n",
    "    node_label=\"ra_dec_sampler\",\n",
    ")\n",
    "\n",
    "time_sampler = NumpyRandomFunc(\"uniform\", low=t_min, high=t_max, node_label=\"time_sampler\")\n"
   ]
  },
  {
   "cell_type": "code",
   "execution_count": 13,
   "id": "37fb6dd1-df30-450f-a206-f477e4ff7a6e",
   "metadata": {
    "execution": {
     "iopub.execute_input": "2025-09-08T04:37:25.688661Z",
     "iopub.status.busy": "2025-09-08T04:37:25.687619Z",
     "iopub.status.idle": "2025-09-08T04:37:25.759048Z",
     "shell.execute_reply": "2025-09-08T04:37:25.758488Z",
     "shell.execute_reply.started": "2025-09-08T04:37:25.688632Z"
    }
   },
   "outputs": [
    {
     "ename": "AttributeError",
     "evalue": "'tuple' object has no attribute 'sample_parameters'",
     "output_type": "error",
     "traceback": [
      "\u001b[31m---------------------------------------------------------------------------\u001b[39m",
      "\u001b[31mAttributeError\u001b[39m                            Traceback (most recent call last)",
      "\u001b[36mCell\u001b[39m\u001b[36m \u001b[39m\u001b[32mIn[13]\u001b[39m\u001b[32m, line 1\u001b[39m\n\u001b[32m----> \u001b[39m\u001b[32m1\u001b[39m lightcurves = \u001b[43msimulate_lightcurves\u001b[49m\u001b[43m(\u001b[49m\u001b[43mmodel\u001b[49m\u001b[43m,\u001b[49m\u001b[43m \u001b[49m\u001b[32;43m1_000\u001b[39;49m\u001b[43m,\u001b[49m\u001b[43m \u001b[49m\u001b[43mopsim_db\u001b[49m\u001b[43m,\u001b[49m\u001b[43m \u001b[49m\u001b[43mpassband_group\u001b[49m\u001b[43m)\u001b[49m\n",
      "\u001b[36mFile \u001b[39m\u001b[32m~/miniconda3/envs/tdastro/lib/python3.12/site-packages/tdastro/simulate.py:110\u001b[39m, in \u001b[36msimulate_lightcurves\u001b[39m\u001b[34m(model, num_samples, obstable, passbands, obstable_save_cols, param_cols, apply_obs_mask, time_window_offset, rng, generate_citations)\u001b[39m\n\u001b[32m    108\u001b[39m \u001b[38;5;28;01mif\u001b[39;00m num_samples <= \u001b[32m0\u001b[39m:\n\u001b[32m    109\u001b[39m     \u001b[38;5;28;01mraise\u001b[39;00m \u001b[38;5;167;01mValueError\u001b[39;00m(\u001b[33m\"\u001b[39m\u001b[33mInvalid number of samples.\u001b[39m\u001b[33m\"\u001b[39m)\n\u001b[32m--> \u001b[39m\u001b[32m110\u001b[39m sample_states = \u001b[43mmodel\u001b[49m\u001b[43m.\u001b[49m\u001b[43msample_parameters\u001b[49m(num_samples=num_samples, rng_info=rng)\n\u001b[32m    112\u001b[39m \u001b[38;5;66;03m# If we are given information for a single survey, make it into a list.\u001b[39;00m\n\u001b[32m    113\u001b[39m \u001b[38;5;28;01mif\u001b[39;00m \u001b[38;5;129;01mnot\u001b[39;00m \u001b[38;5;28misinstance\u001b[39m(obstable, \u001b[38;5;28mlist\u001b[39m):\n",
      "\u001b[31mAttributeError\u001b[39m: 'tuple' object has no attribute 'sample_parameters'"
     ]
    }
   ],
   "source": [
    "lightcurves = simulate_lightcurves(model, 1_000, opsim_db, passband_group)"
   ]
  },
  {
   "cell_type": "code",
   "execution_count": null,
   "id": "0637eb7f-5c23-445b-9f50-2c4fdff8d35b",
   "metadata": {},
   "outputs": [],
   "source": []
  }
 ],
 "metadata": {
  "kernelspec": {
   "display_name": "Python 3 (ipykernel)",
   "language": "python",
   "name": "python3"
  },
  "language_info": {
   "codemirror_mode": {
    "name": "ipython",
    "version": 3
   },
   "file_extension": ".py",
   "mimetype": "text/x-python",
   "name": "python",
   "nbconvert_exporter": "python",
   "pygments_lexer": "ipython3",
   "version": "3.12.11"
  }
 },
 "nbformat": 4,
 "nbformat_minor": 5
}
