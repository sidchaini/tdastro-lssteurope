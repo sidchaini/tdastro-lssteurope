{
 "cells": [
  {
   "cell_type": "code",
   "execution_count": 2,
   "id": "22d3e46c-436c-4db4-b9ef-0c962db5c599",
   "metadata": {
    "execution": {
     "iopub.execute_input": "2025-09-08T04:22:44.295150Z",
     "iopub.status.busy": "2025-09-08T04:22:44.294368Z",
     "iopub.status.idle": "2025-09-08T04:22:46.769819Z",
     "shell.execute_reply": "2025-09-08T04:22:46.769500Z",
     "shell.execute_reply.started": "2025-09-08T04:22:44.295089Z"
    }
   },
   "outputs": [],
   "source": [
    "# 0) Install\n",
    "# !pip install tdastro sncosmo nested-pandas\n",
    "\n",
    "# 1) Imports\n",
    "from tdastro.simulate import simulate_lightcurves\n",
    "from tdastro.astro_utils.passbands import PassbandGroup\n",
    "from tdastro.obstable.opsim import OpSim\n",
    "from tdastro.models.sncomso_models import SncosmoWrapperModel  # (module name has 'sncomso' in tdastro docs)\n",
    "from tdastro.math_nodes.np_random import NumpyRandomFunc\n",
    "import pandas as pd\n"
   ]
  },
  {
   "cell_type": "code",
   "execution_count": 3,
   "id": "6dae241e-7322-4c85-92d3-50cdda4f49fa",
   "metadata": {
    "execution": {
     "iopub.execute_input": "2025-09-08T04:22:53.671976Z",
     "iopub.status.busy": "2025-09-08T04:22:53.669978Z",
     "iopub.status.idle": "2025-09-08T04:24:13.965589Z",
     "shell.execute_reply": "2025-09-08T04:24:13.964943Z",
     "shell.execute_reply.started": "2025-09-08T04:22:53.671904Z"
    },
    "scrolled": true
   },
   "outputs": [
    {
     "name": "stderr",
     "output_type": "stream",
     "text": [
      "2025-09-08 00:24:10,021 - INFO - Loading passbands from preset LSST\n",
      "2025-09-08 00:24:10,026 - INFO - Downloading data file from https://github.com/lsst/throughputs/blob/main/baseline/total_u.dat?raw=true to /Users/sidchaini/miniconda3/envs/tdastro/lib/python3.12/data/passbands/LSST/u.dat\n",
      "Downloading data from 'https://github.com/lsst/throughputs/blob/main/baseline/total_u.dat?raw=true' to file '/Users/sidchaini/miniconda3/envs/tdastro/lib/python3.12/data/passbands/LSST/u.dat'.\n",
      "SHA256 hash of downloaded file: d8fb220fed913551eb1ae5744a49e145d62aa2fd97786b515f30d20e13223b37\n",
      "Use this value as the 'known_hash' argument of 'pooch.retrieve' to ensure that the file hasn't changed if it is downloaded again in the future.\n",
      "2025-09-08 00:24:10,774 - INFO - Loading passband from file: /Users/sidchaini/miniconda3/envs/tdastro/lib/python3.12/data/passbands/LSST/u.dat\n",
      "2025-09-08 00:24:10,879 - INFO - Downloading data file from https://github.com/lsst/throughputs/blob/main/baseline/total_g.dat?raw=true to /Users/sidchaini/miniconda3/envs/tdastro/lib/python3.12/data/passbands/LSST/g.dat\n",
      "Downloading data from 'https://github.com/lsst/throughputs/blob/main/baseline/total_g.dat?raw=true' to file '/Users/sidchaini/miniconda3/envs/tdastro/lib/python3.12/data/passbands/LSST/g.dat'.\n",
      "SHA256 hash of downloaded file: f8935b3a5514e436aea45895369f568bfcc57a682852b0abe3292fd754a7094f\n",
      "Use this value as the 'known_hash' argument of 'pooch.retrieve' to ensure that the file hasn't changed if it is downloaded again in the future.\n",
      "2025-09-08 00:24:11,438 - INFO - Loading passband from file: /Users/sidchaini/miniconda3/envs/tdastro/lib/python3.12/data/passbands/LSST/g.dat\n",
      "2025-09-08 00:24:11,452 - INFO - Downloading data file from https://github.com/lsst/throughputs/blob/main/baseline/total_r.dat?raw=true to /Users/sidchaini/miniconda3/envs/tdastro/lib/python3.12/data/passbands/LSST/r.dat\n",
      "Downloading data from 'https://github.com/lsst/throughputs/blob/main/baseline/total_r.dat?raw=true' to file '/Users/sidchaini/miniconda3/envs/tdastro/lib/python3.12/data/passbands/LSST/r.dat'.\n",
      "SHA256 hash of downloaded file: 7c2e6d39c57b8d36f664caf1087320af76cd098c382ccb5214e2830096f9a311\n",
      "Use this value as the 'known_hash' argument of 'pooch.retrieve' to ensure that the file hasn't changed if it is downloaded again in the future.\n",
      "2025-09-08 00:24:12,111 - INFO - Loading passband from file: /Users/sidchaini/miniconda3/envs/tdastro/lib/python3.12/data/passbands/LSST/r.dat\n",
      "2025-09-08 00:24:12,127 - INFO - Downloading data file from https://github.com/lsst/throughputs/blob/main/baseline/total_i.dat?raw=true to /Users/sidchaini/miniconda3/envs/tdastro/lib/python3.12/data/passbands/LSST/i.dat\n",
      "Downloading data from 'https://github.com/lsst/throughputs/blob/main/baseline/total_i.dat?raw=true' to file '/Users/sidchaini/miniconda3/envs/tdastro/lib/python3.12/data/passbands/LSST/i.dat'.\n",
      "SHA256 hash of downloaded file: ed05e3432509322d8cfb60ee4baf6b8bf1c08fa5a0f011ffee22838c325a9985\n",
      "Use this value as the 'known_hash' argument of 'pooch.retrieve' to ensure that the file hasn't changed if it is downloaded again in the future.\n",
      "2025-09-08 00:24:12,720 - INFO - Loading passband from file: /Users/sidchaini/miniconda3/envs/tdastro/lib/python3.12/data/passbands/LSST/i.dat\n",
      "2025-09-08 00:24:12,731 - INFO - Downloading data file from https://github.com/lsst/throughputs/blob/main/baseline/total_z.dat?raw=true to /Users/sidchaini/miniconda3/envs/tdastro/lib/python3.12/data/passbands/LSST/z.dat\n",
      "Downloading data from 'https://github.com/lsst/throughputs/blob/main/baseline/total_z.dat?raw=true' to file '/Users/sidchaini/miniconda3/envs/tdastro/lib/python3.12/data/passbands/LSST/z.dat'.\n",
      "SHA256 hash of downloaded file: 66f6a80ace390130e444eabaa59bb9837bbfed6b57af299b6c2cf27a53230c52\n",
      "Use this value as the 'known_hash' argument of 'pooch.retrieve' to ensure that the file hasn't changed if it is downloaded again in the future.\n",
      "2025-09-08 00:24:13,341 - INFO - Loading passband from file: /Users/sidchaini/miniconda3/envs/tdastro/lib/python3.12/data/passbands/LSST/z.dat\n",
      "2025-09-08 00:24:13,356 - INFO - Downloading data file from https://github.com/lsst/throughputs/blob/main/baseline/total_y.dat?raw=true to /Users/sidchaini/miniconda3/envs/tdastro/lib/python3.12/data/passbands/LSST/y.dat\n",
      "Downloading data from 'https://github.com/lsst/throughputs/blob/main/baseline/total_y.dat?raw=true' to file '/Users/sidchaini/miniconda3/envs/tdastro/lib/python3.12/data/passbands/LSST/y.dat'.\n",
      "SHA256 hash of downloaded file: f10cc09307ef535c323d9af473b4c4c8dc5905cbf50f91eea1a07cbb38008a20\n",
      "Use this value as the 'known_hash' argument of 'pooch.retrieve' to ensure that the file hasn't changed if it is downloaded again in the future.\n",
      "2025-09-08 00:24:13,947 - INFO - Loading passband from file: /Users/sidchaini/miniconda3/envs/tdastro/lib/python3.12/data/passbands/LSST/y.dat\n"
     ]
    }
   ],
   "source": [
    "# 2) Load LSST cadence (OpSim) + LSST passbands\n",
    "\n",
    "opsim = OpSim.from_db(\"/Users/sidchaini/miniconda3/envs/tdastro/lib/python3.12/data/opsim/baseline_v5.0.0_10yrs.db\")\n",
    "passbands = PassbandGroup.from_preset(\"LSST\")  # u,g,r,i,z,y"
   ]
  },
  {
   "cell_type": "code",
   "execution_count": 4,
   "id": "7d42c993-3c63-4fdd-ba93-dc1846dedeb9",
   "metadata": {
    "execution": {
     "iopub.execute_input": "2025-09-08T04:24:13.967056Z",
     "iopub.status.busy": "2025-09-08T04:24:13.966881Z",
     "iopub.status.idle": "2025-09-08T04:24:18.544370Z",
     "shell.execute_reply": "2025-09-08T04:24:18.543902Z",
     "shell.execute_reply.started": "2025-09-08T04:24:13.967041Z"
    }
   },
   "outputs": [
    {
     "name": "stdout",
     "output_type": "stream",
     "text": [
      "Downloading https://sncosmo.github.io/data/models/salt2/salt2-k21-frag.tar.gz [Done]\n",
      "Downloading http://c3.lbl.gov/nugent/templates/sn2p_flux.v1.2.dat.gz [Done]\n",
      "Downloading http://c3.lbl.gov/nugent/templates/sn1bc_flux.v1.1.dat.gz [Done]\n",
      "Downloading http://c3.lbl.gov/nugent/templates/sn2n_flux.v2.1.dat.gz [Done]\n",
      "Downloading http://c3.lbl.gov/nugent/templates/hyper_flux.v1.2.dat.gz [Done]\n"
     ]
    }
   ],
   "source": [
    "# 3) Define a few simple transient classes via sncosmo\n",
    "#    Pick conservative built-ins that always resolve without extra files.\n",
    "cls_defs = {\n",
    "    # Type Ia (SALT2)\n",
    "    \"SNIa_salt2\": SncosmoWrapperModel(\"salt2\",\n",
    "        # minimalist parameterization; sample redshift, phase t0, and amplitude\n",
    "        redshift=NumpyRandomFunc(\"uniform\", low=0.01, high=0.6),\n",
    "        t0=NumpyRandomFunc(\"uniform\", low=59800.0, high=60600.0),  # MJD range inside OpSim window\n",
    "        x1=NumpyRandomFunc(\"normal\", loc=0.0, scale=1.0),\n",
    "        c=NumpyRandomFunc(\"normal\", loc=0.0, scale=0.1),\n",
    "        amplitude=NumpyRandomFunc(\"lognormal\", mean=0.0, sigma=1.0),\n",
    "        node_label=\"SNIa_salt2\"\n",
    "    ),\n",
    "\n",
    "    # Core-collapse exemplars using Nugent templates\n",
    "    \"SNIIp\": SncosmoWrapperModel(\"nugent-sn2p\",\n",
    "        redshift=NumpyRandomFunc(\"uniform\", low=0.005, high=0.3),\n",
    "        t0=NumpyRandomFunc(\"uniform\", low=59800.0, high=60600.0),\n",
    "        amplitude=NumpyRandomFunc(\"lognormal\", mean=0.0, sigma=1.0),\n",
    "        node_label=\"SNIIp\"\n",
    "    ),\n",
    "    \"SNIbc\": SncosmoWrapperModel(\"nugent-sn1bc\",\n",
    "        redshift=NumpyRandomFunc(\"uniform\", low=0.005, high=0.3),\n",
    "        t0=NumpyRandomFunc(\"uniform\", low=59800.0, high=60600.0),\n",
    "        amplitude=NumpyRandomFunc(\"lognormal\", mean=0.0, sigma=1.0),\n",
    "        node_label=\"SNIbc\"\n",
    "    ),\n",
    "    \"SNIIn\": SncosmoWrapperModel(\"nugent-sn2n\",\n",
    "        redshift=NumpyRandomFunc(\"uniform\", low=0.005, high=0.3),\n",
    "        t0=NumpyRandomFunc(\"uniform\", low=59800.0, high=60600.0),\n",
    "        amplitude=NumpyRandomFunc(\"lognormal\", mean=0.0, sigma=1.0),\n",
    "        node_label=\"SNIIn\"\n",
    "    ),\n",
    "    \"Hypernova\": SncosmoWrapperModel(\"nugent-hyper\",\n",
    "        redshift=NumpyRandomFunc(\"uniform\", low=0.01, high=0.4),\n",
    "        t0=NumpyRandomFunc(\"uniform\", low=59800.0, high=60600.0),\n",
    "        amplitude=NumpyRandomFunc(\"lognormal\", mean=0.0, sigma=1.0),\n",
    "        node_label=\"Hypernova\"\n",
    "    ),\n",
    "}\n"
   ]
  },
  {
   "cell_type": "code",
   "execution_count": 14,
   "id": "cd39ae38-a087-4da0-acad-7007696145a5",
   "metadata": {
    "execution": {
     "iopub.execute_input": "2025-09-08T04:27:26.924843Z",
     "iopub.status.busy": "2025-09-08T04:27:26.924574Z",
     "iopub.status.idle": "2025-09-08T04:27:27.004845Z",
     "shell.execute_reply": "2025-09-08T04:27:27.004344Z",
     "shell.execute_reply.started": "2025-09-08T04:27:26.924827Z"
    }
   },
   "outputs": [
    {
     "ename": "ValueError",
     "evalue": "Query RA and dec cannot contain None.",
     "output_type": "error",
     "traceback": [
      "\u001b[31m---------------------------------------------------------------------------\u001b[39m",
      "\u001b[31mValueError\u001b[39m                                Traceback (most recent call last)",
      "\u001b[36mCell\u001b[39m\u001b[36m \u001b[39m\u001b[32mIn[14]\u001b[39m\u001b[32m, line 1\u001b[39m\n\u001b[32m----> \u001b[39m\u001b[32m1\u001b[39m \u001b[43msimulate_lightcurves\u001b[49m\u001b[43m(\u001b[49m\u001b[43mmodel\u001b[49m\u001b[43m,\u001b[49m\u001b[43m \u001b[49m\u001b[32;43m1_000\u001b[39;49m\u001b[43m,\u001b[49m\u001b[43m \u001b[49m\u001b[43mopsim\u001b[49m\u001b[43m,\u001b[49m\u001b[43m \u001b[49m\u001b[43mpassbands\u001b[49m\u001b[43m)\u001b[49m\n",
      "\u001b[36mFile \u001b[39m\u001b[32m~/miniconda3/envs/tdastro/lib/python3.12/site-packages/tdastro/simulate.py:161\u001b[39m, in \u001b[36msimulate_lightcurves\u001b[39m\u001b[34m(model, num_samples, obstable, passbands, obstable_save_cols, param_cols, apply_obs_mask, time_window_offset, rng, generate_citations)\u001b[39m\n\u001b[32m    155\u001b[39m \u001b[38;5;66;03m# Determine which of the of the simulated positions match the pointings from each ObsTable.\u001b[39;00m\n\u001b[32m    156\u001b[39m start_times, end_times = get_time_windows(\n\u001b[32m    157\u001b[39m     model.get_param(sample_states, \u001b[33m\"\u001b[39m\u001b[33mt0\u001b[39m\u001b[33m\"\u001b[39m),\n\u001b[32m    158\u001b[39m     time_window_offset,\n\u001b[32m    159\u001b[39m )\n\u001b[32m    160\u001b[39m all_obs_matches = [\n\u001b[32m--> \u001b[39m\u001b[32m161\u001b[39m     \u001b[43mobstable\u001b[49m\u001b[43m[\u001b[49m\u001b[43mi\u001b[49m\u001b[43m]\u001b[49m\u001b[43m.\u001b[49m\u001b[43mrange_search\u001b[49m\u001b[43m(\u001b[49m\u001b[43mra\u001b[49m\u001b[43m,\u001b[49m\u001b[43m \u001b[49m\u001b[43mdec\u001b[49m\u001b[43m,\u001b[49m\u001b[43m \u001b[49m\u001b[43mt_min\u001b[49m\u001b[43m=\u001b[49m\u001b[43mstart_times\u001b[49m\u001b[43m,\u001b[49m\u001b[43m \u001b[49m\u001b[43mt_max\u001b[49m\u001b[43m=\u001b[49m\u001b[43mend_times\u001b[49m\u001b[43m)\u001b[49m \u001b[38;5;28;01mfor\u001b[39;00m i \u001b[38;5;129;01min\u001b[39;00m \u001b[38;5;28mrange\u001b[39m(num_surveys)\n\u001b[32m    162\u001b[39m ]\n\u001b[32m    164\u001b[39m \u001b[38;5;66;03m# Get all times and all filters as numpy arrays so we can do easy subsets.\u001b[39;00m\n\u001b[32m    165\u001b[39m all_times = [np.asarray(obstable[i][\u001b[33m\"\u001b[39m\u001b[33mtime\u001b[39m\u001b[33m\"\u001b[39m].values, dtype=\u001b[38;5;28mfloat\u001b[39m) \u001b[38;5;28;01mfor\u001b[39;00m i \u001b[38;5;129;01min\u001b[39;00m \u001b[38;5;28mrange\u001b[39m(num_surveys)]\n",
      "\u001b[36mFile \u001b[39m\u001b[32m~/miniconda3/envs/tdastro/lib/python3.12/site-packages/tdastro/obstable/obs_table.py:468\u001b[39m, in \u001b[36mObsTable.range_search\u001b[39m\u001b[34m(self, query_ra, query_dec, radius, t_min, t_max)\u001b[39m\n\u001b[32m    466\u001b[39m     \u001b[38;5;28;01mraise\u001b[39;00m \u001b[38;5;167;01mValueError\u001b[39;00m(\u001b[33m\"\u001b[39m\u001b[33mQuery RA and Dec must have the same length.\u001b[39m\u001b[33m\"\u001b[39m)\n\u001b[32m    467\u001b[39m \u001b[38;5;28;01mif\u001b[39;00m np.any(query_ra == \u001b[38;5;28;01mNone\u001b[39;00m) \u001b[38;5;129;01mor\u001b[39;00m np.any(query_dec == \u001b[38;5;28;01mNone\u001b[39;00m):  \u001b[38;5;66;03m# noqa: E711\u001b[39;00m\n\u001b[32m--> \u001b[39m\u001b[32m468\u001b[39m     \u001b[38;5;28;01mraise\u001b[39;00m \u001b[38;5;167;01mValueError\u001b[39;00m(\u001b[33m\"\u001b[39m\u001b[33mQuery RA and dec cannot contain None.\u001b[39m\u001b[33m\"\u001b[39m)\n\u001b[32m    470\u001b[39m \u001b[38;5;66;03m# Transform the query point(s) to 3-d Cartesian coordinate(s).\u001b[39;00m\n\u001b[32m    471\u001b[39m ra_rad = np.radians(query_ra)\n",
      "\u001b[31mValueError\u001b[39m: Query RA and dec cannot contain None."
     ]
    }
   ],
   "source": [
    "simulate_lightcurves(model, 1_000, opsim, passbands)"
   ]
  },
  {
   "cell_type": "code",
   "execution_count": 9,
   "id": "fe1cb16f-f2a4-4baf-a717-33faeaa4390f",
   "metadata": {
    "execution": {
     "iopub.execute_input": "2025-09-08T04:25:34.763158Z",
     "iopub.status.busy": "2025-09-08T04:25:34.762583Z",
     "iopub.status.idle": "2025-09-08T04:25:34.839444Z",
     "shell.execute_reply": "2025-09-08T04:25:34.838672Z",
     "shell.execute_reply.started": "2025-09-08T04:25:34.763135Z"
    }
   },
   "outputs": [
    {
     "ename": "ValueError",
     "evalue": "Query RA and dec cannot contain None.",
     "output_type": "error",
     "traceback": [
      "\u001b[31m---------------------------------------------------------------------------\u001b[39m",
      "\u001b[31mValueError\u001b[39m                                Traceback (most recent call last)",
      "\u001b[36mCell\u001b[39m\u001b[36m \u001b[39m\u001b[32mIn[9]\u001b[39m\u001b[32m, line 1\u001b[39m\n\u001b[32m----> \u001b[39m\u001b[32m1\u001b[39m \u001b[43msimulate_lightcurves\u001b[49m\u001b[43m(\u001b[49m\n\u001b[32m      2\u001b[39m \u001b[43m        \u001b[49m\u001b[43mmodel\u001b[49m\u001b[43m,\u001b[49m\n\u001b[32m      3\u001b[39m \u001b[43m        \u001b[49m\u001b[43mN_PER\u001b[49m\u001b[43m,\u001b[49m\n\u001b[32m      4\u001b[39m \u001b[43m        \u001b[49m\u001b[43mopsim\u001b[49m\u001b[43m,\u001b[49m\n\u001b[32m      5\u001b[39m \u001b[43m        \u001b[49m\u001b[43mpassbands\u001b[49m\u001b[43m,\u001b[49m\n\u001b[32m      6\u001b[39m \u001b[43m        \u001b[49m\u001b[43mparam_cols\u001b[49m\u001b[43m=\u001b[49m\u001b[43m[\u001b[49m\u001b[33;43mf\u001b[39;49m\u001b[33;43m\"\u001b[39;49m\u001b[38;5;132;43;01m{\u001b[39;49;00m\u001b[43mname\u001b[49m\u001b[38;5;132;43;01m}\u001b[39;49;00m\u001b[33;43m.redshift\u001b[39;49m\u001b[33;43m\"\u001b[39;49m\u001b[43m,\u001b[49m\u001b[43m \u001b[49m\u001b[33;43mf\u001b[39;49m\u001b[33;43m\"\u001b[39;49m\u001b[38;5;132;43;01m{\u001b[39;49;00m\u001b[43mname\u001b[49m\u001b[38;5;132;43;01m}\u001b[39;49;00m\u001b[33;43m.t0\u001b[39;49m\u001b[33;43m\"\u001b[39;49m\u001b[43m]\u001b[49m\u001b[43m,\u001b[49m\u001b[43m  \u001b[49m\u001b[38;5;66;43;03m# add whatever you want broken out\u001b[39;49;00m\n\u001b[32m      7\u001b[39m \u001b[43m        \u001b[49m\u001b[43mapply_obs_mask\u001b[49m\u001b[43m=\u001b[49m\u001b[38;5;28;43;01mTrue\u001b[39;49;00m\u001b[43m,\u001b[49m\u001b[43m               \u001b[49m\u001b[38;5;66;43;03m# drop obs outside time window if model provides one\u001b[39;49;00m\n\u001b[32m      8\u001b[39m \u001b[43m        \u001b[49m\u001b[43mtime_window_offset\u001b[49m\u001b[43m=\u001b[49m\u001b[43m(\u001b[49m\u001b[32;43m40.0\u001b[39;49m\u001b[43m,\u001b[49m\u001b[43m \u001b[49m\u001b[32;43m120.0\u001b[39;49m\u001b[43m)\u001b[49m\u001b[43m,\u001b[49m\u001b[43m  \u001b[49m\u001b[38;5;66;43;03m# observe from t0-40d to t0+120d\u001b[39;49;00m\n\u001b[32m      9\u001b[39m \u001b[43m        \u001b[49m\u001b[43mgenerate_citations\u001b[49m\u001b[43m=\u001b[49m\u001b[38;5;28;43;01mFalse\u001b[39;49;00m\n\u001b[32m     10\u001b[39m \u001b[43m    \u001b[49m\u001b[43m)\u001b[49m\n",
      "\u001b[36mFile \u001b[39m\u001b[32m~/miniconda3/envs/tdastro/lib/python3.12/site-packages/tdastro/simulate.py:161\u001b[39m, in \u001b[36msimulate_lightcurves\u001b[39m\u001b[34m(model, num_samples, obstable, passbands, obstable_save_cols, param_cols, apply_obs_mask, time_window_offset, rng, generate_citations)\u001b[39m\n\u001b[32m    155\u001b[39m \u001b[38;5;66;03m# Determine which of the of the simulated positions match the pointings from each ObsTable.\u001b[39;00m\n\u001b[32m    156\u001b[39m start_times, end_times = get_time_windows(\n\u001b[32m    157\u001b[39m     model.get_param(sample_states, \u001b[33m\"\u001b[39m\u001b[33mt0\u001b[39m\u001b[33m\"\u001b[39m),\n\u001b[32m    158\u001b[39m     time_window_offset,\n\u001b[32m    159\u001b[39m )\n\u001b[32m    160\u001b[39m all_obs_matches = [\n\u001b[32m--> \u001b[39m\u001b[32m161\u001b[39m     \u001b[43mobstable\u001b[49m\u001b[43m[\u001b[49m\u001b[43mi\u001b[49m\u001b[43m]\u001b[49m\u001b[43m.\u001b[49m\u001b[43mrange_search\u001b[49m\u001b[43m(\u001b[49m\u001b[43mra\u001b[49m\u001b[43m,\u001b[49m\u001b[43m \u001b[49m\u001b[43mdec\u001b[49m\u001b[43m,\u001b[49m\u001b[43m \u001b[49m\u001b[43mt_min\u001b[49m\u001b[43m=\u001b[49m\u001b[43mstart_times\u001b[49m\u001b[43m,\u001b[49m\u001b[43m \u001b[49m\u001b[43mt_max\u001b[49m\u001b[43m=\u001b[49m\u001b[43mend_times\u001b[49m\u001b[43m)\u001b[49m \u001b[38;5;28;01mfor\u001b[39;00m i \u001b[38;5;129;01min\u001b[39;00m \u001b[38;5;28mrange\u001b[39m(num_surveys)\n\u001b[32m    162\u001b[39m ]\n\u001b[32m    164\u001b[39m \u001b[38;5;66;03m# Get all times and all filters as numpy arrays so we can do easy subsets.\u001b[39;00m\n\u001b[32m    165\u001b[39m all_times = [np.asarray(obstable[i][\u001b[33m\"\u001b[39m\u001b[33mtime\u001b[39m\u001b[33m\"\u001b[39m].values, dtype=\u001b[38;5;28mfloat\u001b[39m) \u001b[38;5;28;01mfor\u001b[39;00m i \u001b[38;5;129;01min\u001b[39;00m \u001b[38;5;28mrange\u001b[39m(num_surveys)]\n",
      "\u001b[36mFile \u001b[39m\u001b[32m~/miniconda3/envs/tdastro/lib/python3.12/site-packages/tdastro/obstable/obs_table.py:468\u001b[39m, in \u001b[36mObsTable.range_search\u001b[39m\u001b[34m(self, query_ra, query_dec, radius, t_min, t_max)\u001b[39m\n\u001b[32m    466\u001b[39m     \u001b[38;5;28;01mraise\u001b[39;00m \u001b[38;5;167;01mValueError\u001b[39;00m(\u001b[33m\"\u001b[39m\u001b[33mQuery RA and Dec must have the same length.\u001b[39m\u001b[33m\"\u001b[39m)\n\u001b[32m    467\u001b[39m \u001b[38;5;28;01mif\u001b[39;00m np.any(query_ra == \u001b[38;5;28;01mNone\u001b[39;00m) \u001b[38;5;129;01mor\u001b[39;00m np.any(query_dec == \u001b[38;5;28;01mNone\u001b[39;00m):  \u001b[38;5;66;03m# noqa: E711\u001b[39;00m\n\u001b[32m--> \u001b[39m\u001b[32m468\u001b[39m     \u001b[38;5;28;01mraise\u001b[39;00m \u001b[38;5;167;01mValueError\u001b[39;00m(\u001b[33m\"\u001b[39m\u001b[33mQuery RA and dec cannot contain None.\u001b[39m\u001b[33m\"\u001b[39m)\n\u001b[32m    470\u001b[39m \u001b[38;5;66;03m# Transform the query point(s) to 3-d Cartesian coordinate(s).\u001b[39;00m\n\u001b[32m    471\u001b[39m ra_rad = np.radians(query_ra)\n",
      "\u001b[31mValueError\u001b[39m: Query RA and dec cannot contain None."
     ]
    }
   ],
   "source": [
    "simulate_lightcurves(\n",
    "        model,\n",
    "        N_PER,\n",
    "        opsim,\n",
    "        passbands,\n",
    "        param_cols=[f\"{name}.redshift\", f\"{name}.t0\"],  # add whatever you want broken out\n",
    "        apply_obs_mask=True,               # drop obs outside time window if model provides one\n",
    "        time_window_offset=(40.0, 120.0),  # observe from t0-40d to t0+120d\n",
    "        generate_citations=False\n",
    "    )"
   ]
  },
  {
   "cell_type": "code",
   "execution_count": 8,
   "id": "f4683497-e467-4138-894c-752fe4aa69d1",
   "metadata": {
    "execution": {
     "iopub.execute_input": "2025-09-08T04:25:23.531825Z",
     "iopub.status.busy": "2025-09-08T04:25:23.531075Z",
     "iopub.status.idle": "2025-09-08T04:25:23.620545Z",
     "shell.execute_reply": "2025-09-08T04:25:23.619775Z",
     "shell.execute_reply.started": "2025-09-08T04:25:23.531775Z"
    }
   },
   "outputs": [
    {
     "ename": "ValueError",
     "evalue": "Query RA and dec cannot contain None.",
     "output_type": "error",
     "traceback": [
      "\u001b[31m---------------------------------------------------------------------------\u001b[39m",
      "\u001b[31mValueError\u001b[39m                                Traceback (most recent call last)",
      "\u001b[36mCell\u001b[39m\u001b[36m \u001b[39m\u001b[32mIn[8]\u001b[39m\u001b[32m, line 5\u001b[39m\n\u001b[32m      3\u001b[39m frames = []\n\u001b[32m      4\u001b[39m \u001b[38;5;28;01mfor\u001b[39;00m name, model \u001b[38;5;129;01min\u001b[39;00m cls_defs.items():\n\u001b[32m----> \u001b[39m\u001b[32m5\u001b[39m     nf = \u001b[43msimulate_lightcurves\u001b[49m\u001b[43m(\u001b[49m\n\u001b[32m      6\u001b[39m \u001b[43m        \u001b[49m\u001b[43mmodel\u001b[49m\u001b[43m,\u001b[49m\n\u001b[32m      7\u001b[39m \u001b[43m        \u001b[49m\u001b[43mN_PER\u001b[49m\u001b[43m,\u001b[49m\n\u001b[32m      8\u001b[39m \u001b[43m        \u001b[49m\u001b[43mopsim\u001b[49m\u001b[43m,\u001b[49m\n\u001b[32m      9\u001b[39m \u001b[43m        \u001b[49m\u001b[43mpassbands\u001b[49m\u001b[43m,\u001b[49m\n\u001b[32m     10\u001b[39m \u001b[43m        \u001b[49m\u001b[43mparam_cols\u001b[49m\u001b[43m=\u001b[49m\u001b[43m[\u001b[49m\u001b[33;43mf\u001b[39;49m\u001b[33;43m\"\u001b[39;49m\u001b[38;5;132;43;01m{\u001b[39;49;00m\u001b[43mname\u001b[49m\u001b[38;5;132;43;01m}\u001b[39;49;00m\u001b[33;43m.redshift\u001b[39;49m\u001b[33;43m\"\u001b[39;49m\u001b[43m,\u001b[49m\u001b[43m \u001b[49m\u001b[33;43mf\u001b[39;49m\u001b[33;43m\"\u001b[39;49m\u001b[38;5;132;43;01m{\u001b[39;49;00m\u001b[43mname\u001b[49m\u001b[38;5;132;43;01m}\u001b[39;49;00m\u001b[33;43m.t0\u001b[39;49m\u001b[33;43m\"\u001b[39;49m\u001b[43m]\u001b[49m\u001b[43m,\u001b[49m\u001b[43m  \u001b[49m\u001b[38;5;66;43;03m# add whatever you want broken out\u001b[39;49;00m\n\u001b[32m     11\u001b[39m \u001b[43m        \u001b[49m\u001b[43mapply_obs_mask\u001b[49m\u001b[43m=\u001b[49m\u001b[38;5;28;43;01mTrue\u001b[39;49;00m\u001b[43m,\u001b[49m\u001b[43m               \u001b[49m\u001b[38;5;66;43;03m# drop obs outside time window if model provides one\u001b[39;49;00m\n\u001b[32m     12\u001b[39m \u001b[43m        \u001b[49m\u001b[43mtime_window_offset\u001b[49m\u001b[43m=\u001b[49m\u001b[43m(\u001b[49m\u001b[32;43m40.0\u001b[39;49m\u001b[43m,\u001b[49m\u001b[43m \u001b[49m\u001b[32;43m120.0\u001b[39;49m\u001b[43m)\u001b[49m\u001b[43m,\u001b[49m\u001b[43m  \u001b[49m\u001b[38;5;66;43;03m# observe from t0-40d to t0+120d\u001b[39;49;00m\n\u001b[32m     13\u001b[39m \u001b[43m        \u001b[49m\u001b[43mgenerate_citations\u001b[49m\u001b[43m=\u001b[49m\u001b[38;5;28;43;01mFalse\u001b[39;49;00m\n\u001b[32m     14\u001b[39m \u001b[43m    \u001b[49m\u001b[43m)\u001b[49m\n\u001b[32m     15\u001b[39m     df = nf.to_pandas()     \u001b[38;5;66;03m# each row is one object; \"lightcurve\" column holds a nested table\u001b[39;00m\n\u001b[32m     16\u001b[39m     df[\u001b[33m\"\u001b[39m\u001b[33mclass_name\u001b[39m\u001b[33m\"\u001b[39m] = name\n",
      "\u001b[36mFile \u001b[39m\u001b[32m~/miniconda3/envs/tdastro/lib/python3.12/site-packages/tdastro/simulate.py:161\u001b[39m, in \u001b[36msimulate_lightcurves\u001b[39m\u001b[34m(model, num_samples, obstable, passbands, obstable_save_cols, param_cols, apply_obs_mask, time_window_offset, rng, generate_citations)\u001b[39m\n\u001b[32m    155\u001b[39m \u001b[38;5;66;03m# Determine which of the of the simulated positions match the pointings from each ObsTable.\u001b[39;00m\n\u001b[32m    156\u001b[39m start_times, end_times = get_time_windows(\n\u001b[32m    157\u001b[39m     model.get_param(sample_states, \u001b[33m\"\u001b[39m\u001b[33mt0\u001b[39m\u001b[33m\"\u001b[39m),\n\u001b[32m    158\u001b[39m     time_window_offset,\n\u001b[32m    159\u001b[39m )\n\u001b[32m    160\u001b[39m all_obs_matches = [\n\u001b[32m--> \u001b[39m\u001b[32m161\u001b[39m     \u001b[43mobstable\u001b[49m\u001b[43m[\u001b[49m\u001b[43mi\u001b[49m\u001b[43m]\u001b[49m\u001b[43m.\u001b[49m\u001b[43mrange_search\u001b[49m\u001b[43m(\u001b[49m\u001b[43mra\u001b[49m\u001b[43m,\u001b[49m\u001b[43m \u001b[49m\u001b[43mdec\u001b[49m\u001b[43m,\u001b[49m\u001b[43m \u001b[49m\u001b[43mt_min\u001b[49m\u001b[43m=\u001b[49m\u001b[43mstart_times\u001b[49m\u001b[43m,\u001b[49m\u001b[43m \u001b[49m\u001b[43mt_max\u001b[49m\u001b[43m=\u001b[49m\u001b[43mend_times\u001b[49m\u001b[43m)\u001b[49m \u001b[38;5;28;01mfor\u001b[39;00m i \u001b[38;5;129;01min\u001b[39;00m \u001b[38;5;28mrange\u001b[39m(num_surveys)\n\u001b[32m    162\u001b[39m ]\n\u001b[32m    164\u001b[39m \u001b[38;5;66;03m# Get all times and all filters as numpy arrays so we can do easy subsets.\u001b[39;00m\n\u001b[32m    165\u001b[39m all_times = [np.asarray(obstable[i][\u001b[33m\"\u001b[39m\u001b[33mtime\u001b[39m\u001b[33m\"\u001b[39m].values, dtype=\u001b[38;5;28mfloat\u001b[39m) \u001b[38;5;28;01mfor\u001b[39;00m i \u001b[38;5;129;01min\u001b[39;00m \u001b[38;5;28mrange\u001b[39m(num_surveys)]\n",
      "\u001b[36mFile \u001b[39m\u001b[32m~/miniconda3/envs/tdastro/lib/python3.12/site-packages/tdastro/obstable/obs_table.py:468\u001b[39m, in \u001b[36mObsTable.range_search\u001b[39m\u001b[34m(self, query_ra, query_dec, radius, t_min, t_max)\u001b[39m\n\u001b[32m    466\u001b[39m     \u001b[38;5;28;01mraise\u001b[39;00m \u001b[38;5;167;01mValueError\u001b[39;00m(\u001b[33m\"\u001b[39m\u001b[33mQuery RA and Dec must have the same length.\u001b[39m\u001b[33m\"\u001b[39m)\n\u001b[32m    467\u001b[39m \u001b[38;5;28;01mif\u001b[39;00m np.any(query_ra == \u001b[38;5;28;01mNone\u001b[39;00m) \u001b[38;5;129;01mor\u001b[39;00m np.any(query_dec == \u001b[38;5;28;01mNone\u001b[39;00m):  \u001b[38;5;66;03m# noqa: E711\u001b[39;00m\n\u001b[32m--> \u001b[39m\u001b[32m468\u001b[39m     \u001b[38;5;28;01mraise\u001b[39;00m \u001b[38;5;167;01mValueError\u001b[39;00m(\u001b[33m\"\u001b[39m\u001b[33mQuery RA and dec cannot contain None.\u001b[39m\u001b[33m\"\u001b[39m)\n\u001b[32m    470\u001b[39m \u001b[38;5;66;03m# Transform the query point(s) to 3-d Cartesian coordinate(s).\u001b[39;00m\n\u001b[32m    471\u001b[39m ra_rad = np.radians(query_ra)\n",
      "\u001b[31mValueError\u001b[39m: Query RA and dec cannot contain None."
     ]
    }
   ],
   "source": [
    "# 4) Generate N per class, concatenate, and export\n",
    "N_PER = 10  # change to taste\n",
    "frames = []\n",
    "for name, model in cls_defs.items():\n",
    "    nf = simulate_lightcurves(\n",
    "        model,\n",
    "        N_PER,\n",
    "        opsim,\n",
    "        passbands,\n",
    "        param_cols=[f\"{name}.redshift\", f\"{name}.t0\"],  # add whatever you want broken out\n",
    "        apply_obs_mask=True,               # drop obs outside time window if model provides one\n",
    "        time_window_offset=(40.0, 120.0),  # observe from t0-40d to t0+120d\n",
    "        generate_citations=False\n",
    "    )\n",
    "    df = nf.to_pandas()     # each row is one object; \"lightcurve\" column holds a nested table\n",
    "    df[\"class_name\"] = name\n",
    "    frames.append(df)\n",
    "\n",
    "all_objs = pd.concat(frames, ignore_index=True)\n"
   ]
  },
  {
   "cell_type": "code",
   "execution_count": null,
   "id": "acd75b60-3e41-42aa-9001-5f62808a3915",
   "metadata": {},
   "outputs": [],
   "source": [
    "# Flatten out the per-object light curves into one long table (optional):\n",
    "lc_rows = []\n",
    "for _, row in all_objs.iterrows():\n",
    "    lc = row[\"lightcurve\"]\n",
    "    lcd = lc.assign(object_id=row[\"object_id\"], class_name=row[\"class_name\"])\n",
    "    lc_rows.append(lcd)\n",
    "all_lc = pd.concat(lc_rows, ignore_index=True)\n",
    "\n",
    "# Save\n",
    "# all_objs.to_parquet(\"tdastro_objects.parquet\")\n",
    "# all_lc.to_parquet(\"tdastro_lightcurves.parquet\")\n",
    "# print(\"Wrote tdastro_objects.parquet and tdastro_lightcurves.parquet\")\n",
    "all_lc"
   ]
  }
 ],
 "metadata": {
  "kernelspec": {
   "display_name": "Python 3 (ipykernel)",
   "language": "python",
   "name": "python3"
  },
  "language_info": {
   "codemirror_mode": {
    "name": "ipython",
    "version": 3
   },
   "file_extension": ".py",
   "mimetype": "text/x-python",
   "name": "python",
   "nbconvert_exporter": "python",
   "pygments_lexer": "ipython3",
   "version": "3.12.11"
  }
 },
 "nbformat": 4,
 "nbformat_minor": 5
}
