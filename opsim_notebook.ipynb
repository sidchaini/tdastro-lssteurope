{
 "cells": [
  {
   "cell_type": "code",
   "execution_count": 1,
   "metadata": {
    "execution": {
     "iopub.execute_input": "2025-09-09T23:41:46.906259Z",
     "iopub.status.busy": "2025-09-09T23:41:46.905986Z",
     "iopub.status.idle": "2025-09-09T23:42:25.696560Z",
     "shell.execute_reply": "2025-09-09T23:42:25.695839Z",
     "shell.execute_reply.started": "2025-09-09T23:41:46.906239Z"
    }
   },
   "outputs": [
    {
     "name": "stdout",
     "output_type": "stream",
     "text": [
      "Loaded an opsim database with 2048612 entries.\n",
      "Columns: Index(['observationId', 'ra', 'dec', 'time', 'flush_by_mjd', 'exptime', 'band',\n",
      "       'filter', 'rotSkyPos', 'rotSkyPos_desired', 'nexposure', 'airmass',\n",
      "       'seeingFwhm500', 'seeing', 'seeingFwhmGeom', 'skybrightness', 'night',\n",
      "       'slewTime', 'visitTime', 'slewDistance', 'fiveSigmaDepth', 'altitude',\n",
      "       'azimuth', 'paraAngle', 'pseudoParaAngle', 'cloud', 'moonAlt', 'sunAlt',\n",
      "       'scheduler_note', 'target_name', 'target_id', 'observationStartLST',\n",
      "       'rotTelPos', 'rotTelPos_backup', 'moonAz', 'sunAz', 'sunRA', 'sunDec',\n",
      "       'moonRA', 'moonDec', 'moonDistance', 'solarElong', 'moonPhase',\n",
      "       'cummTelAz', 'observation_reason', 'science_program',\n",
      "       'cloud_extinction', 'zp'],\n",
      "      dtype='object')\n"
     ]
    }
   ],
   "source": [
    "import numpy as np\n",
    "import pandas as pd\n",
    "import matplotlib.pyplot as plt\n",
    "from tdastro.obstable.opsim import OpSim\n",
    "OPSIM_DB_PATH = \"/Users/sidchaini/miniconda3/envs/tdastro/lib/python3.12/data/opsim/baseline_v5.0.0_10yrs.db\"  # Path to your downloaded OpSim database\n",
    "ops_data = OpSim.from_db(OPSIM_DB_PATH)\n",
    "\n",
    "print(f\"Loaded an opsim database with {len(ops_data)} entries.\")\n",
    "print(f\"Columns: {ops_data.columns}\")\n",
    "\n",
    "ddf_idx = ops_data[\"science_program\"][ops_data[\"science_program\"]==\"DD\"].index\n",
    "ddf_table = ops_data._table.iloc[ddf_idx]\n",
    "\n",
    "nonddf_idx = ops_data[\"science_program\"][ops_data[\"science_program\"]!=\"DD\"].index\n",
    "nonddf_table = ops_data._table.iloc[nonddf_idx]\n",
    "\n",
    "lsstcolorplot = {\n",
    "    \"u\": \"#785EF0\",\n",
    "    \"g\": \"#7DDEB2\",\n",
    "    \"r\": \"#DC267F\",\n",
    "    \"i\": \"#FE6100\",\n",
    "    \"z\": \"#FFB000\",\n",
    "    \"y\": \"#5F3331\",\n",
    "}\n",
    "\n",
    "lc = pd.read_csv(\"lc.csv\",sep=\" \").set_index(\"SNID\")\n",
    "meta = pd.read_csv(\"meta.csv\",sep=\" \").set_index(\"SNID\")\n",
    "lc[\"FLT\"] = lc[\"FLT\"].str.lower()"
   ]
  },
  {
   "cell_type": "markdown",
   "metadata": {},
   "source": [
    "## Choose"
   ]
  },
  {
   "cell_type": "code",
   "execution_count": 2,
   "metadata": {
    "execution": {
     "iopub.execute_input": "2025-09-09T23:42:25.697311Z",
     "iopub.status.busy": "2025-09-09T23:42:25.697192Z",
     "iopub.status.idle": "2025-09-09T23:42:25.700692Z",
     "shell.execute_reply": "2025-09-09T23:42:25.699944Z",
     "shell.execute_reply.started": "2025-09-09T23:42:25.697297Z"
    }
   },
   "outputs": [],
   "source": [
    "table = nonddf_table"
   ]
  },
  {
   "cell_type": "code",
   "execution_count": 3,
   "metadata": {
    "execution": {
     "iopub.execute_input": "2025-09-09T23:42:25.701562Z",
     "iopub.status.busy": "2025-09-09T23:42:25.701445Z",
     "iopub.status.idle": "2025-09-09T23:42:25.724604Z",
     "shell.execute_reply": "2025-09-09T23:42:25.723972Z",
     "shell.execute_reply.started": "2025-09-09T23:42:25.701550Z"
    }
   },
   "outputs": [
    {
     "name": "stdout",
     "output_type": "stream",
     "text": [
      "Chose 55665296 (CART)\n"
     ]
    }
   ],
   "source": [
    "meta_idx = meta.sample(n=1).index[0]\n",
    "print(f\"Chose {meta_idx} ({meta.loc[meta_idx, 'SIM_TYPE_NAME']})\")\n",
    "\n",
    "cur_lc = lc.loc[meta_idx]"
   ]
  },
  {
   "cell_type": "code",
   "execution_count": 4,
   "metadata": {
    "execution": {
     "iopub.execute_input": "2025-09-09T23:42:25.725440Z",
     "iopub.status.busy": "2025-09-09T23:42:25.725280Z",
     "iopub.status.idle": "2025-09-09T23:42:25.766084Z",
     "shell.execute_reply": "2025-09-09T23:42:25.765617Z",
     "shell.execute_reply.started": "2025-09-09T23:42:25.725427Z"
    }
   },
   "outputs": [],
   "source": [
    "choose_idx = table.sample(n=1).index[0]\n",
    "choose_ra = table.loc[choose_idx][\"ra\"]\n",
    "choose_dec = table.loc[choose_idx][\"dec\"]"
   ]
  },
  {
   "cell_type": "code",
   "execution_count": 5,
   "metadata": {
    "execution": {
     "iopub.execute_input": "2025-09-09T23:42:25.766516Z",
     "iopub.status.busy": "2025-09-09T23:42:25.766428Z",
     "iopub.status.idle": "2025-09-09T23:42:25.769773Z",
     "shell.execute_reply": "2025-09-09T23:42:25.768761Z",
     "shell.execute_reply.started": "2025-09-09T23:42:25.766506Z"
    }
   },
   "outputs": [],
   "source": [
    "choose_time = table.loc[choose_idx][\"time\"] + np.random.randint(low=-100,high=200) # randint moves peak wrt cadence"
   ]
  },
  {
   "cell_type": "code",
   "execution_count": 6,
   "metadata": {
    "execution": {
     "iopub.execute_input": "2025-09-09T23:42:25.773333Z",
     "iopub.status.busy": "2025-09-09T23:42:25.773199Z",
     "iopub.status.idle": "2025-09-09T23:42:25.777734Z",
     "shell.execute_reply": "2025-09-09T23:42:25.777307Z",
     "shell.execute_reply.started": "2025-09-09T23:42:25.773324Z"
    }
   },
   "outputs": [
    {
     "name": "stderr",
     "output_type": "stream",
     "text": [
      "/var/folders/2d/ht34x6mn7hx9d1sv4g_j8nfr0000gn/T/ipykernel_4941/984652313.py:1: SettingWithCopyWarning: \n",
      "A value is trying to be set on a copy of a slice from a DataFrame.\n",
      "Try using .loc[row_indexer,col_indexer] = value instead\n",
      "\n",
      "See the caveats in the documentation: https://pandas.pydata.org/pandas-docs/stable/user_guide/indexing.html#returning-a-view-versus-a-copy\n",
      "  cur_lc[\"LSSTDATE\"] = (cur_lc[\"MJD\"] + (choose_time - cur_lc[\"MJD\"].min()))\n"
     ]
    }
   ],
   "source": [
    "cur_lc[\"LSSTDATE\"] = (cur_lc[\"MJD\"] + (choose_time - cur_lc[\"MJD\"].min()))"
   ]
  },
  {
   "cell_type": "code",
   "execution_count": 7,
   "metadata": {
    "execution": {
     "iopub.execute_input": "2025-09-09T23:42:25.778388Z",
     "iopub.status.busy": "2025-09-09T23:42:25.778252Z",
     "iopub.status.idle": "2025-09-09T23:42:25.785201Z",
     "shell.execute_reply": "2025-09-09T23:42:25.784461Z",
     "shell.execute_reply.started": "2025-09-09T23:42:25.778376Z"
    }
   },
   "outputs": [],
   "source": [
    "dat=pd.DataFrame(\n",
    "    ops_data.get_observations(\n",
    "        query_ra=choose_ra,\n",
    "        query_dec=choose_dec,\n",
    "        cols=[\"time\", \"band\"],\n",
    "        t_min = cur_lc[\"LSSTDATE\"].min(),\n",
    "        t_max = cur_lc[\"LSSTDATE\"].max()\n",
    "    )\n",
    ")"
   ]
  },
  {
   "cell_type": "code",
   "execution_count": 8,
   "metadata": {
    "execution": {
     "iopub.execute_input": "2025-09-09T23:42:25.786459Z",
     "iopub.status.busy": "2025-09-09T23:42:25.786245Z",
     "iopub.status.idle": "2025-09-09T23:42:25.801725Z",
     "shell.execute_reply": "2025-09-09T23:42:25.801409Z",
     "shell.execute_reply.started": "2025-09-09T23:42:25.786448Z"
    }
   },
   "outputs": [],
   "source": [
    "cur_lc_renamed = cur_lc.rename(columns={'LSSTDATE': 'time', 'FLT': 'band'})\n",
    "dat_sorted = dat.sort_values('time')\n",
    "cur_lc_sorted = cur_lc_renamed.sort_values('time')\n",
    "merged_df = pd.merge_asof(\n",
    "    dat_sorted,\n",
    "    cur_lc_sorted,\n",
    "    on='time',\n",
    "    by='band',\n",
    "    direction='nearest',\n",
    "    tolerance=cur_lc[\"MJD\"].diff().max(), # 1 or 2\n",
    ")\n",
    "\n",
    "cur_lc_crop = merged_df.groupby([ \"MJD\", \"band\"]).sample(n=1)"
   ]
  },
  {
   "cell_type": "code",
   "execution_count": 9,
   "metadata": {
    "execution": {
     "iopub.execute_input": "2025-09-09T23:42:25.803098Z",
     "iopub.status.busy": "2025-09-09T23:42:25.802924Z",
     "iopub.status.idle": "2025-09-09T23:42:25.809662Z",
     "shell.execute_reply": "2025-09-09T23:42:25.808890Z",
     "shell.execute_reply.started": "2025-09-09T23:42:25.803076Z"
    }
   },
   "outputs": [
    {
     "data": {
      "text/plain": [
       "band\n",
       "i    6\n",
       "r    6\n",
       "z    5\n",
       "g    5\n",
       "y    1\n",
       "Name: count, dtype: int64"
      ]
     },
     "execution_count": 9,
     "metadata": {},
     "output_type": "execute_result"
    }
   ],
   "source": [
    "cur_lc_crop[\"band\"].value_counts()"
   ]
  },
  {
   "cell_type": "code",
   "execution_count": 10,
   "metadata": {
    "execution": {
     "iopub.execute_input": "2025-09-09T23:42:25.810875Z",
     "iopub.status.busy": "2025-09-09T23:42:25.810639Z",
     "iopub.status.idle": "2025-09-09T23:42:25.826047Z",
     "shell.execute_reply": "2025-09-09T23:42:25.825692Z",
     "shell.execute_reply.started": "2025-09-09T23:42:25.810853Z"
    }
   },
   "outputs": [
    {
     "data": {
      "text/html": [
       "<div>\n",
       "<style scoped>\n",
       "    .dataframe tbody tr th:only-of-type {\n",
       "        vertical-align: middle;\n",
       "    }\n",
       "\n",
       "    .dataframe tbody tr th {\n",
       "        vertical-align: top;\n",
       "    }\n",
       "\n",
       "    .dataframe thead th {\n",
       "        text-align: right;\n",
       "    }\n",
       "</style>\n",
       "<table border=\"1\" class=\"dataframe\">\n",
       "  <thead>\n",
       "    <tr style=\"text-align: right;\">\n",
       "      <th></th>\n",
       "      <th>MJD</th>\n",
       "      <th>FLT</th>\n",
       "      <th>FLUXCAL</th>\n",
       "      <th>FLUXCALERR</th>\n",
       "      <th>SNR</th>\n",
       "      <th>orig_id</th>\n",
       "      <th>LSSTDATE</th>\n",
       "    </tr>\n",
       "    <tr>\n",
       "      <th>SNID</th>\n",
       "      <th></th>\n",
       "      <th></th>\n",
       "      <th></th>\n",
       "      <th></th>\n",
       "      <th></th>\n",
       "      <th></th>\n",
       "      <th></th>\n",
       "    </tr>\n",
       "  </thead>\n",
       "  <tbody>\n",
       "    <tr>\n",
       "      <th>55665296</th>\n",
       "      <td>53000.0</td>\n",
       "      <td>u</td>\n",
       "      <td>-0.138546</td>\n",
       "      <td>0.141841</td>\n",
       "      <td>-0.976773</td>\n",
       "      <td>5796</td>\n",
       "      <td>64522.114803</td>\n",
       "    </tr>\n",
       "    <tr>\n",
       "      <th>55665296</th>\n",
       "      <td>53000.0</td>\n",
       "      <td>g</td>\n",
       "      <td>0.279416</td>\n",
       "      <td>0.142822</td>\n",
       "      <td>1.956392</td>\n",
       "      <td>5796</td>\n",
       "      <td>64522.114803</td>\n",
       "    </tr>\n",
       "    <tr>\n",
       "      <th>55665296</th>\n",
       "      <td>53000.0</td>\n",
       "      <td>r</td>\n",
       "      <td>0.008654</td>\n",
       "      <td>0.141871</td>\n",
       "      <td>0.061000</td>\n",
       "      <td>5796</td>\n",
       "      <td>64522.114803</td>\n",
       "    </tr>\n",
       "    <tr>\n",
       "      <th>55665296</th>\n",
       "      <td>53000.0</td>\n",
       "      <td>i</td>\n",
       "      <td>-0.286510</td>\n",
       "      <td>0.141841</td>\n",
       "      <td>-2.019941</td>\n",
       "      <td>5796</td>\n",
       "      <td>64522.114803</td>\n",
       "    </tr>\n",
       "    <tr>\n",
       "      <th>55665296</th>\n",
       "      <td>53000.0</td>\n",
       "      <td>z</td>\n",
       "      <td>-0.092031</td>\n",
       "      <td>0.141841</td>\n",
       "      <td>-0.648835</td>\n",
       "      <td>5796</td>\n",
       "      <td>64522.114803</td>\n",
       "    </tr>\n",
       "    <tr>\n",
       "      <th>...</th>\n",
       "      <td>...</td>\n",
       "      <td>...</td>\n",
       "      <td>...</td>\n",
       "      <td>...</td>\n",
       "      <td>...</td>\n",
       "      <td>...</td>\n",
       "      <td>...</td>\n",
       "    </tr>\n",
       "    <tr>\n",
       "      <th>55665296</th>\n",
       "      <td>53400.0</td>\n",
       "      <td>g</td>\n",
       "      <td>0.227896</td>\n",
       "      <td>0.142642</td>\n",
       "      <td>1.597679</td>\n",
       "      <td>5796</td>\n",
       "      <td>64922.114803</td>\n",
       "    </tr>\n",
       "    <tr>\n",
       "      <th>55665296</th>\n",
       "      <td>53400.0</td>\n",
       "      <td>r</td>\n",
       "      <td>-0.052967</td>\n",
       "      <td>0.141841</td>\n",
       "      <td>-0.373428</td>\n",
       "      <td>5796</td>\n",
       "      <td>64922.114803</td>\n",
       "    </tr>\n",
       "    <tr>\n",
       "      <th>55665296</th>\n",
       "      <td>53400.0</td>\n",
       "      <td>i</td>\n",
       "      <td>-0.023278</td>\n",
       "      <td>0.141841</td>\n",
       "      <td>-0.164114</td>\n",
       "      <td>5796</td>\n",
       "      <td>64922.114803</td>\n",
       "    </tr>\n",
       "    <tr>\n",
       "      <th>55665296</th>\n",
       "      <td>53400.0</td>\n",
       "      <td>z</td>\n",
       "      <td>0.067867</td>\n",
       "      <td>0.142080</td>\n",
       "      <td>0.477671</td>\n",
       "      <td>5796</td>\n",
       "      <td>64922.114803</td>\n",
       "    </tr>\n",
       "    <tr>\n",
       "      <th>55665296</th>\n",
       "      <td>53400.0</td>\n",
       "      <td>y</td>\n",
       "      <td>-0.139818</td>\n",
       "      <td>0.141841</td>\n",
       "      <td>-0.985740</td>\n",
       "      <td>5796</td>\n",
       "      <td>64922.114803</td>\n",
       "    </tr>\n",
       "  </tbody>\n",
       "</table>\n",
       "<p>1206 rows × 7 columns</p>\n",
       "</div>"
      ],
      "text/plain": [
       "              MJD FLT   FLUXCAL  FLUXCALERR       SNR  orig_id      LSSTDATE\n",
       "SNID                                                                        \n",
       "55665296  53000.0   u -0.138546    0.141841 -0.976773     5796  64522.114803\n",
       "55665296  53000.0   g  0.279416    0.142822  1.956392     5796  64522.114803\n",
       "55665296  53000.0   r  0.008654    0.141871  0.061000     5796  64522.114803\n",
       "55665296  53000.0   i -0.286510    0.141841 -2.019941     5796  64522.114803\n",
       "55665296  53000.0   z -0.092031    0.141841 -0.648835     5796  64522.114803\n",
       "...           ...  ..       ...         ...       ...      ...           ...\n",
       "55665296  53400.0   g  0.227896    0.142642  1.597679     5796  64922.114803\n",
       "55665296  53400.0   r -0.052967    0.141841 -0.373428     5796  64922.114803\n",
       "55665296  53400.0   i -0.023278    0.141841 -0.164114     5796  64922.114803\n",
       "55665296  53400.0   z  0.067867    0.142080  0.477671     5796  64922.114803\n",
       "55665296  53400.0   y -0.139818    0.141841 -0.985740     5796  64922.114803\n",
       "\n",
       "[1206 rows x 7 columns]"
      ]
     },
     "execution_count": 10,
     "metadata": {},
     "output_type": "execute_result"
    }
   ],
   "source": [
    "cur_lc.iloc[0:]"
   ]
  },
  {
   "cell_type": "code",
   "execution_count": 11,
   "metadata": {
    "execution": {
     "iopub.execute_input": "2025-09-09T23:42:25.827593Z",
     "iopub.status.busy": "2025-09-09T23:42:25.827468Z",
     "iopub.status.idle": "2025-09-09T23:42:25.830948Z",
     "shell.execute_reply": "2025-09-09T23:42:25.830517Z",
     "shell.execute_reply.started": "2025-09-09T23:42:25.827584Z"
    }
   },
   "outputs": [],
   "source": [
    "cur_lc_crop = cur_lc_crop[[\"MJD\", \"band\"]]\n",
    "cur_lc_crop.columns = [\"MJD\", \"FLT\"]"
   ]
  },
  {
   "cell_type": "code",
   "execution_count": 12,
   "metadata": {
    "execution": {
     "iopub.execute_input": "2025-09-09T23:42:25.832462Z",
     "iopub.status.busy": "2025-09-09T23:42:25.832218Z",
     "iopub.status.idle": "2025-09-09T23:42:25.836714Z",
     "shell.execute_reply": "2025-09-09T23:42:25.836341Z",
     "shell.execute_reply.started": "2025-09-09T23:42:25.832312Z"
    }
   },
   "outputs": [],
   "source": [
    "# cur_lc = cur_lc.reset_index(drop=False).set_index(list(cur_lc_crop.columns))"
   ]
  },
  {
   "cell_type": "code",
   "execution_count": 13,
   "metadata": {
    "execution": {
     "iopub.execute_input": "2025-09-09T23:42:25.837573Z",
     "iopub.status.busy": "2025-09-09T23:42:25.837260Z",
     "iopub.status.idle": "2025-09-09T23:42:25.845028Z",
     "shell.execute_reply": "2025-09-09T23:42:25.844477Z",
     "shell.execute_reply.started": "2025-09-09T23:42:25.837562Z"
    }
   },
   "outputs": [],
   "source": [
    "cur_lc_crop = pd.merge(cur_lc, cur_lc_crop, on=['MJD', 'FLT'])"
   ]
  },
  {
   "cell_type": "code",
   "execution_count": 14,
   "metadata": {
    "execution": {
     "iopub.execute_input": "2025-09-09T23:42:25.848572Z",
     "iopub.status.busy": "2025-09-09T23:42:25.845791Z",
     "iopub.status.idle": "2025-09-09T23:42:25.856545Z",
     "shell.execute_reply": "2025-09-09T23:42:25.855083Z",
     "shell.execute_reply.started": "2025-09-09T23:42:25.848528Z"
    }
   },
   "outputs": [
    {
     "name": "stderr",
     "output_type": "stream",
     "text": [
      "/var/folders/2d/ht34x6mn7hx9d1sv4g_j8nfr0000gn/T/ipykernel_4941/362524121.py:1: SettingWithCopyWarning: \n",
      "A value is trying to be set on a copy of a slice from a DataFrame.\n",
      "Try using .loc[row_indexer,col_indexer] = value instead\n",
      "\n",
      "See the caveats in the documentation: https://pandas.pydata.org/pandas-docs/stable/user_guide/indexing.html#returning-a-view-versus-a-copy\n",
      "  cur_lc.loc[:,\"MJD_DIFF\"] = cur_lc[\"MJD\"] - cur_lc[\"MJD\"].min()\n"
     ]
    }
   ],
   "source": [
    "cur_lc.loc[:,\"MJD_DIFF\"] = cur_lc[\"MJD\"] - cur_lc[\"MJD\"].min()\n",
    "cur_lc_crop.loc[:,\"MJD_DIFF\"] = cur_lc_crop[\"MJD\"] - cur_lc[\"MJD\"].min()"
   ]
  },
  {
   "cell_type": "code",
   "execution_count": 15,
   "metadata": {
    "execution": {
     "iopub.execute_input": "2025-09-09T23:42:25.857345Z",
     "iopub.status.busy": "2025-09-09T23:42:25.857249Z",
     "iopub.status.idle": "2025-09-09T23:42:26.003327Z",
     "shell.execute_reply": "2025-09-09T23:42:26.002962Z",
     "shell.execute_reply.started": "2025-09-09T23:42:25.857336Z"
    }
   },
   "outputs": [
    {
     "data": {
      "image/png": "[encoded data removed]",
      "text/plain": [
       "<Figure size 640x480 with 1 Axes>"
      ]
     },
     "metadata": {},
     "output_type": "display_data"
    }
   ],
   "source": [
    "for ch in \"ugrizy\":\n",
    "    cur_lc_band = cur_lc[cur_lc[\"FLT\"]==ch]\n",
    "    plt.scatter(\n",
    "        cur_lc_band[\"MJD_DIFF\"],cur_lc_band[\"FLUXCAL\"], alpha=1,\n",
    "        color=lsstcolorplot[ch], s=2)\n",
    "    \n",
    "    cur_lc_crop_band = cur_lc_crop[cur_lc_crop[\"FLT\"]==ch]\n",
    "    plt.scatter(\n",
    "        cur_lc_crop_band[\"MJD_DIFF\"],cur_lc_crop_band[\"FLUXCAL\"],\n",
    "        label=ch,\n",
    "        s=50,\n",
    "        color=lsstcolorplot[ch])\n",
    "\n",
    "plt.legend()\n",
    "plt.show()"
   ]
  },
  {
   "cell_type": "code",
   "execution_count": 16,
   "metadata": {
    "execution": {
     "iopub.execute_input": "2025-09-09T23:42:26.003840Z",
     "iopub.status.busy": "2025-09-09T23:42:26.003745Z",
     "iopub.status.idle": "2025-09-09T23:42:26.005818Z",
     "shell.execute_reply": "2025-09-09T23:42:26.005427Z",
     "shell.execute_reply.started": "2025-09-09T23:42:26.003831Z"
    }
   },
   "outputs": [],
   "source": [
    "# dat[\"time\"] = dat[\"time\"].round()\n",
    "# dat\n",
    "    \n",
    "# cur_lc[\"LSSTDATE\"] = cur_lc[\"LSSTDATE\"].round()\n",
    "# cur_lc\n",
    "\n",
    "\n",
    "# cur_lc_crop = pd.merge(\n",
    "#     cur_lc,\n",
    "#     dat,\n",
    "#     left_on=\"LSSTDATE\",\n",
    "#     right_on=\"time\"\n",
    "# )\n",
    "\n",
    "# cur_lc_crop = cur_lc_crop[cur_lc_crop[\"band\"] == cur_lc_crop[\"FLT\"]]"
   ]
  },
  {
   "cell_type": "code",
   "execution_count": 17,
   "metadata": {
    "execution": {
     "iopub.execute_input": "2025-09-09T23:42:26.006400Z",
     "iopub.status.busy": "2025-09-09T23:42:26.006235Z",
     "iopub.status.idle": "2025-09-09T23:42:26.008972Z",
     "shell.execute_reply": "2025-09-09T23:42:26.008161Z",
     "shell.execute_reply.started": "2025-09-09T23:42:26.006391Z"
    }
   },
   "outputs": [],
   "source": [
    "# pd.merge(\n",
    "#     cur_lc,\n",
    "#     dat,\n",
    "#     left_on=\"LSSTDATE\",\n",
    "#     right_on=\"time\"\n",
    "# )"
   ]
  },
  {
   "cell_type": "code",
   "execution_count": 18,
   "metadata": {
    "execution": {
     "iopub.execute_input": "2025-09-09T23:42:26.010445Z",
     "iopub.status.busy": "2025-09-09T23:42:26.010148Z",
     "iopub.status.idle": "2025-09-09T23:42:26.012833Z",
     "shell.execute_reply": "2025-09-09T23:42:26.012466Z",
     "shell.execute_reply.started": "2025-09-09T23:42:26.010434Z"
    }
   },
   "outputs": [],
   "source": [
    "# cur_lc_crop = pd.merge_asof(\n",
    "#     dat,\n",
    "#     cur_lc,\n",
    "#     left_on='time',\n",
    "#     right_on='LSSTDATE',\n",
    "#     direction='nearest',\n",
    "#     tolerance=1\n",
    "# )\n",
    "\n",
    "# # cur_lc_crop = cur_lc_crop[cur_lc_crop[\"band\"] == cur_lc_crop[\"FLT\"]]"
   ]
  }
 ],
 "metadata": {
  "kernelspec": {
   "display_name": "Python 3 (ipykernel)",
   "language": "python",
   "name": "python3"
  },
  "language_info": {
   "codemirror_mode": {
    "name": "ipython",
    "version": 3
   },
   "file_extension": ".py",
   "mimetype": "text/x-python",
   "name": "python",
   "nbconvert_exporter": "python",
   "pygments_lexer": "ipython3",
   "version": "3.12.11"
  }
 },
 "nbformat": 4,
 "nbformat_minor": 4
}
