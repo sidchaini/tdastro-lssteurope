{
 "cells": [
  {
   "cell_type": "code",
   "execution_count": 1,
   "metadata": {
    "execution": {
     "iopub.execute_input": "2025-09-09T18:23:17.572090Z",
     "iopub.status.busy": "2025-09-09T18:23:17.570981Z",
     "iopub.status.idle": "2025-09-09T18:24:16.652036Z",
     "shell.execute_reply": "2025-09-09T18:24:16.650546Z",
     "shell.execute_reply.started": "2025-09-09T18:23:17.572050Z"
    }
   },
   "outputs": [
    {
     "name": "stdout",
     "output_type": "stream",
     "text": [
      "Loaded an opsim database with 2048612 entries.\n",
      "Columns: Index(['observationId', 'ra', 'dec', 'time', 'flush_by_mjd', 'exptime', 'band',\n",
      "       'filter', 'rotSkyPos', 'rotSkyPos_desired', 'nexposure', 'airmass',\n",
      "       'seeingFwhm500', 'seeing', 'seeingFwhmGeom', 'skybrightness', 'night',\n",
      "       'slewTime', 'visitTime', 'slewDistance', 'fiveSigmaDepth', 'altitude',\n",
      "       'azimuth', 'paraAngle', 'pseudoParaAngle', 'cloud', 'moonAlt', 'sunAlt',\n",
      "       'scheduler_note', 'target_name', 'target_id', 'observationStartLST',\n",
      "       'rotTelPos', 'rotTelPos_backup', 'moonAz', 'sunAz', 'sunRA', 'sunDec',\n",
      "       'moonRA', 'moonDec', 'moonDistance', 'solarElong', 'moonPhase',\n",
      "       'cummTelAz', 'observation_reason', 'science_program',\n",
      "       'cloud_extinction', 'zp'],\n",
      "      dtype='object')\n"
     ]
    }
   ],
   "source": [
    "import numpy as np\n",
    "import pandas as pd\n",
    "import matplotlib.pyplot as plt\n",
    "from tdastro.obstable.opsim import OpSim\n",
    "OPSIM_DB_PATH = \"/Users/sidchaini/miniconda3/envs/tdastro/lib/python3.12/data/opsim/baseline_v5.0.0_10yrs.db\"  # Path to your downloaded OpSim database\n",
    "ops_data = OpSim.from_db(OPSIM_DB_PATH)\n",
    "\n",
    "print(f\"Loaded an opsim database with {len(ops_data)} entries.\")\n",
    "print(f\"Columns: {ops_data.columns}\")\n",
    "\n",
    "ddf_idx = ops_data[\"science_program\"][ops_data[\"science_program\"]==\"DD\"].index\n",
    "ddf_table = ops_data._table.iloc[ddf_idx]\n",
    "\n",
    "nonddf_idx = ops_data[\"science_program\"][ops_data[\"science_program\"]!=\"DD\"].index\n",
    "nonddf_table = ops_data._table.iloc[nonddf_idx]\n",
    "\n",
    "lsstcolorplot = {\n",
    "    \"u\": \"#785EF0\",\n",
    "    \"g\": \"#7DDEB2\",\n",
    "    \"r\": \"#DC267F\",\n",
    "    \"i\": \"#FE6100\",\n",
    "    \"z\": \"#FFB000\",\n",
    "    \"y\": \"#5F3331\",\n",
    "}\n",
    "\n",
    "lc = pd.read_csv(\"lc.csv\",sep=\" \").set_index(\"SNID\")\n",
    "meta = pd.read_csv(\"meta.csv\",sep=\" \").set_index(\"SNID\")\n",
    "lc[\"FLT\"] = lc[\"FLT\"].str.lower()"
   ]
  },
  {
   "cell_type": "markdown",
   "metadata": {},
   "source": [
    "## Choose"
   ]
  },
  {
   "cell_type": "code",
   "execution_count": 2,
   "metadata": {
    "execution": {
     "iopub.execute_input": "2025-09-09T18:24:16.661072Z",
     "iopub.status.busy": "2025-09-09T18:24:16.660681Z",
     "iopub.status.idle": "2025-09-09T18:24:16.665210Z",
     "shell.execute_reply": "2025-09-09T18:24:16.664415Z",
     "shell.execute_reply.started": "2025-09-09T18:24:16.661060Z"
    }
   },
   "outputs": [],
   "source": [
    "table = nonddf_table"
   ]
  },
  {
   "cell_type": "code",
   "execution_count": 39,
   "metadata": {
    "execution": {
     "iopub.execute_input": "2025-09-09T18:26:07.499271Z",
     "iopub.status.busy": "2025-09-09T18:26:07.497853Z",
     "iopub.status.idle": "2025-09-09T18:26:07.523507Z",
     "shell.execute_reply": "2025-09-09T18:26:07.522926Z",
     "shell.execute_reply.started": "2025-09-09T18:26:07.499221Z"
    }
   },
   "outputs": [
    {
     "name": "stdout",
     "output_type": "stream",
     "text": [
      "Chose 25466351 (CART)\n"
     ]
    }
   ],
   "source": [
    "meta_idx = meta.sample(n=1).index[0]\n",
    "print(f\"Chose {meta_idx} ({meta.loc[meta_idx, 'SIM_TYPE_NAME']})\")\n",
    "\n",
    "cur_lc = lc.loc[meta_idx]"
   ]
  },
  {
   "cell_type": "code",
   "execution_count": 40,
   "metadata": {
    "execution": {
     "iopub.execute_input": "2025-09-09T18:26:08.317217Z",
     "iopub.status.busy": "2025-09-09T18:26:08.316539Z",
     "iopub.status.idle": "2025-09-09T18:26:08.492384Z",
     "shell.execute_reply": "2025-09-09T18:26:08.491287Z",
     "shell.execute_reply.started": "2025-09-09T18:26:08.317191Z"
    }
   },
   "outputs": [],
   "source": [
    "choose_idx = table.sample(n=1).index[0]\n",
    "choose_ra = table.loc[choose_idx][\"ra\"]\n",
    "choose_dec = table.loc[choose_idx][\"dec\"]\n",
    "choose_time = table.loc[choose_idx][\"time\"]"
   ]
  },
  {
   "cell_type": "code",
   "execution_count": 41,
   "metadata": {
    "execution": {
     "iopub.execute_input": "2025-09-09T18:26:08.502817Z",
     "iopub.status.busy": "2025-09-09T18:26:08.498177Z",
     "iopub.status.idle": "2025-09-09T18:26:08.540625Z",
     "shell.execute_reply": "2025-09-09T18:26:08.532199Z",
     "shell.execute_reply.started": "2025-09-09T18:26:08.502795Z"
    }
   },
   "outputs": [
    {
     "name": "stderr",
     "output_type": "stream",
     "text": [
      "/var/folders/2d/ht34x6mn7hx9d1sv4g_j8nfr0000gn/T/ipykernel_86193/984652313.py:1: SettingWithCopyWarning: \n",
      "A value is trying to be set on a copy of a slice from a DataFrame.\n",
      "Try using .loc[row_indexer,col_indexer] = value instead\n",
      "\n",
      "See the caveats in the documentation: https://pandas.pydata.org/pandas-docs/stable/user_guide/indexing.html#returning-a-view-versus-a-copy\n",
      "  cur_lc[\"LSSTDATE\"] = (cur_lc[\"MJD\"] + (choose_time - cur_lc[\"MJD\"].min()))\n"
     ]
    }
   ],
   "source": [
    "cur_lc[\"LSSTDATE\"] = (cur_lc[\"MJD\"] + (choose_time - cur_lc[\"MJD\"].min()))"
   ]
  },
  {
   "cell_type": "code",
   "execution_count": 42,
   "metadata": {
    "execution": {
     "iopub.execute_input": "2025-09-09T18:26:08.652638Z",
     "iopub.status.busy": "2025-09-09T18:26:08.652288Z",
     "iopub.status.idle": "2025-09-09T18:26:08.672142Z",
     "shell.execute_reply": "2025-09-09T18:26:08.669843Z",
     "shell.execute_reply.started": "2025-09-09T18:26:08.652614Z"
    }
   },
   "outputs": [],
   "source": [
    "dat=pd.DataFrame(\n",
    "    ops_data.get_observations(\n",
    "        query_ra=choose_ra,\n",
    "        query_dec=choose_dec,\n",
    "        cols=[\"time\", \"band\"],\n",
    "        t_min = cur_lc[\"LSSTDATE\"].min(),\n",
    "        t_max = cur_lc[\"LSSTDATE\"].max()\n",
    "    )\n",
    ")"
   ]
  },
  {
   "cell_type": "code",
   "execution_count": 43,
   "metadata": {
    "execution": {
     "iopub.execute_input": "2025-09-09T18:26:08.695121Z",
     "iopub.status.busy": "2025-09-09T18:26:08.694899Z",
     "iopub.status.idle": "2025-09-09T18:26:08.706486Z",
     "shell.execute_reply": "2025-09-09T18:26:08.706150Z",
     "shell.execute_reply.started": "2025-09-09T18:26:08.695107Z"
    }
   },
   "outputs": [],
   "source": [
    "cur_lc_renamed = cur_lc.rename(columns={'LSSTDATE': 'time', 'FLT': 'band'})\n",
    "dat_sorted = dat.sort_values('time')\n",
    "cur_lc_sorted = cur_lc_renamed.sort_values('time')\n",
    "merged_df = pd.merge_asof(\n",
    "    dat_sorted,\n",
    "    cur_lc_sorted,\n",
    "    on='time',\n",
    "    by='band',\n",
    "    direction='nearest',\n",
    "    tolerance=cur_lc[\"MJD\"].diff().max(), # 1 or 2\n",
    ")\n",
    "\n",
    "cur_lc_crop = merged_df.groupby([ \"MJD\", \"band\"]).sample(n=1)"
   ]
  },
  {
   "cell_type": "code",
   "execution_count": 44,
   "metadata": {
    "execution": {
     "iopub.execute_input": "2025-09-09T18:26:09.383405Z",
     "iopub.status.busy": "2025-09-09T18:26:09.382852Z",
     "iopub.status.idle": "2025-09-09T18:26:09.398074Z",
     "shell.execute_reply": "2025-09-09T18:26:09.396801Z",
     "shell.execute_reply.started": "2025-09-09T18:26:09.383375Z"
    }
   },
   "outputs": [
    {
     "data": {
      "text/plain": [
       "band\n",
       "r    12\n",
       "z    12\n",
       "i     9\n",
       "y     5\n",
       "g     4\n",
       "u     4\n",
       "Name: count, dtype: int64"
      ]
     },
     "execution_count": 44,
     "metadata": {},
     "output_type": "execute_result"
    }
   ],
   "source": [
    "cur_lc_crop[\"band\"].value_counts()"
   ]
  },
  {
   "cell_type": "code",
   "execution_count": 45,
   "metadata": {
    "execution": {
     "iopub.execute_input": "2025-09-09T18:26:09.528295Z",
     "iopub.status.busy": "2025-09-09T18:26:09.527935Z",
     "iopub.status.idle": "2025-09-09T18:26:09.536199Z",
     "shell.execute_reply": "2025-09-09T18:26:09.535254Z",
     "shell.execute_reply.started": "2025-09-09T18:26:09.528272Z"
    }
   },
   "outputs": [],
   "source": [
    "cur_lc_crop = cur_lc_crop[[\"MJD\", \"band\"]]\n",
    "cur_lc_crop.columns = [\"MJD\", \"FLT\"]"
   ]
  },
  {
   "cell_type": "code",
   "execution_count": 46,
   "metadata": {
    "execution": {
     "iopub.execute_input": "2025-09-09T18:26:09.887976Z",
     "iopub.status.busy": "2025-09-09T18:26:09.887290Z",
     "iopub.status.idle": "2025-09-09T18:26:09.897833Z",
     "shell.execute_reply": "2025-09-09T18:26:09.896634Z",
     "shell.execute_reply.started": "2025-09-09T18:26:09.887946Z"
    }
   },
   "outputs": [],
   "source": [
    "# cur_lc = cur_lc.reset_index(drop=False).set_index(list(cur_lc_crop.columns))"
   ]
  },
  {
   "cell_type": "code",
   "execution_count": 47,
   "metadata": {
    "execution": {
     "iopub.execute_input": "2025-09-09T18:26:10.054520Z",
     "iopub.status.busy": "2025-09-09T18:26:10.053947Z",
     "iopub.status.idle": "2025-09-09T18:26:10.068271Z",
     "shell.execute_reply": "2025-09-09T18:26:10.067265Z",
     "shell.execute_reply.started": "2025-09-09T18:26:10.054481Z"
    }
   },
   "outputs": [],
   "source": [
    "cur_lc_crop = pd.merge(cur_lc, cur_lc_crop, on=['MJD', 'FLT'])"
   ]
  },
  {
   "cell_type": "code",
   "execution_count": 48,
   "metadata": {
    "execution": {
     "iopub.execute_input": "2025-09-09T18:26:10.407407Z",
     "iopub.status.busy": "2025-09-09T18:26:10.406641Z",
     "iopub.status.idle": "2025-09-09T18:26:10.422038Z",
     "shell.execute_reply": "2025-09-09T18:26:10.420731Z",
     "shell.execute_reply.started": "2025-09-09T18:26:10.407357Z"
    }
   },
   "outputs": [
    {
     "name": "stderr",
     "output_type": "stream",
     "text": [
      "/var/folders/2d/ht34x6mn7hx9d1sv4g_j8nfr0000gn/T/ipykernel_86193/362524121.py:1: SettingWithCopyWarning: \n",
      "A value is trying to be set on a copy of a slice from a DataFrame.\n",
      "Try using .loc[row_indexer,col_indexer] = value instead\n",
      "\n",
      "See the caveats in the documentation: https://pandas.pydata.org/pandas-docs/stable/user_guide/indexing.html#returning-a-view-versus-a-copy\n",
      "  cur_lc.loc[:,\"MJD_DIFF\"] = cur_lc[\"MJD\"] - cur_lc[\"MJD\"].min()\n"
     ]
    }
   ],
   "source": [
    "cur_lc.loc[:,\"MJD_DIFF\"] = cur_lc[\"MJD\"] - cur_lc[\"MJD\"].min()\n",
    "cur_lc_crop.loc[:,\"MJD_DIFF\"] = cur_lc_crop[\"MJD\"] - cur_lc[\"MJD\"].min()"
   ]
  },
  {
   "cell_type": "code",
   "execution_count": 49,
   "metadata": {
    "execution": {
     "iopub.execute_input": "2025-09-09T18:26:10.621055Z",
     "iopub.status.busy": "2025-09-09T18:26:10.620694Z",
     "iopub.status.idle": "2025-09-09T18:26:10.747301Z",
     "shell.execute_reply": "2025-09-09T18:26:10.746998Z",
     "shell.execute_reply.started": "2025-09-09T18:26:10.621032Z"
    }
   },
   "outputs": [
    {
     "data": {
      "image/png": "[encoded data removed]",
      "text/plain": [
       "<Figure size 640x480 with 1 Axes>"
      ]
     },
     "metadata": {},
     "output_type": "display_data"
    }
   ],
   "source": [
    "for ch in \"ugrizy\":\n",
    "    cur_lc_band = cur_lc[cur_lc[\"FLT\"]==ch]\n",
    "    plt.scatter(\n",
    "        cur_lc_band[\"MJD_DIFF\"],cur_lc_band[\"FLUXCAL\"], alpha=1,\n",
    "        color=lsstcolorplot[ch], s=2)\n",
    "    \n",
    "    cur_lc_crop_band = cur_lc_crop[cur_lc_crop[\"FLT\"]==ch]\n",
    "    plt.scatter(\n",
    "        cur_lc_crop_band[\"MJD_DIFF\"],cur_lc_crop_band[\"FLUXCAL\"],\n",
    "        label=ch,\n",
    "        s=50,\n",
    "        color=lsstcolorplot[ch])\n",
    "\n",
    "plt.legend()\n",
    "plt.show()"
   ]
  },
  {
   "cell_type": "code",
   "execution_count": 22,
   "metadata": {
    "execution": {
     "iopub.execute_input": "2025-09-09T06:17:10.601401Z",
     "iopub.status.busy": "2025-09-09T06:17:10.601060Z",
     "iopub.status.idle": "2025-09-09T06:17:10.607155Z",
     "shell.execute_reply": "2025-09-09T06:17:10.606214Z",
     "shell.execute_reply.started": "2025-09-09T06:17:10.601378Z"
    }
   },
   "outputs": [],
   "source": [
    "# dat[\"time\"] = dat[\"time\"].round()\n",
    "# dat\n",
    "    \n",
    "# cur_lc[\"LSSTDATE\"] = cur_lc[\"LSSTDATE\"].round()\n",
    "# cur_lc\n",
    "\n",
    "\n",
    "# cur_lc_crop = pd.merge(\n",
    "#     cur_lc,\n",
    "#     dat,\n",
    "#     left_on=\"LSSTDATE\",\n",
    "#     right_on=\"time\"\n",
    "# )\n",
    "\n",
    "# cur_lc_crop = cur_lc_crop[cur_lc_crop[\"band\"] == cur_lc_crop[\"FLT\"]]"
   ]
  },
  {
   "cell_type": "code",
   "execution_count": 271,
   "metadata": {
    "execution": {
     "iopub.execute_input": "2025-09-09T05:48:22.963047Z",
     "iopub.status.busy": "2025-09-09T05:48:22.962701Z",
     "iopub.status.idle": "2025-09-09T05:48:22.967267Z",
     "shell.execute_reply": "2025-09-09T05:48:22.966459Z",
     "shell.execute_reply.started": "2025-09-09T05:48:22.963022Z"
    }
   },
   "outputs": [],
   "source": [
    "# pd.merge(\n",
    "#     cur_lc,\n",
    "#     dat,\n",
    "#     left_on=\"LSSTDATE\",\n",
    "#     right_on=\"time\"\n",
    "# )"
   ]
  },
  {
   "cell_type": "code",
   "execution_count": 258,
   "metadata": {
    "execution": {
     "iopub.execute_input": "2025-09-09T05:46:53.410418Z",
     "iopub.status.busy": "2025-09-09T05:46:53.409844Z",
     "iopub.status.idle": "2025-09-09T05:46:53.418135Z",
     "shell.execute_reply": "2025-09-09T05:46:53.416276Z",
     "shell.execute_reply.started": "2025-09-09T05:46:53.410387Z"
    }
   },
   "outputs": [],
   "source": [
    "# cur_lc_crop = pd.merge_asof(\n",
    "#     dat,\n",
    "#     cur_lc,\n",
    "#     left_on='time',\n",
    "#     right_on='LSSTDATE',\n",
    "#     direction='nearest',\n",
    "#     tolerance=1\n",
    "# )\n",
    "\n",
    "# # cur_lc_crop = cur_lc_crop[cur_lc_crop[\"band\"] == cur_lc_crop[\"FLT\"]]"
   ]
  },
  {
   "cell_type": "code",
   "execution_count": null,
   "metadata": {},
   "outputs": [],
   "source": []
  }
 ],
 "metadata": {
  "kernelspec": {
   "display_name": "Python 3 (ipykernel)",
   "language": "python",
   "name": "python3"
  },
  "language_info": {
   "codemirror_mode": {
    "name": "ipython",
    "version": 3
   },
   "file_extension": ".py",
   "mimetype": "text/x-python",
   "name": "python",
   "nbconvert_exporter": "python",
   "pygments_lexer": "ipython3",
   "version": "3.12.11"
  }
 },
 "nbformat": 4,
 "nbformat_minor": 4
}
